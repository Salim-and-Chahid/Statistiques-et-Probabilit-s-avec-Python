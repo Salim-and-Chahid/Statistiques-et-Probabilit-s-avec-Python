{
 "cells": [
  {
   "cell_type": "code",
   "execution_count": 13,
   "id": "0a49dc76",
   "metadata": {},
   "outputs": [],
   "source": [
    "dictionnaire = {} # Crée un dictionnaire vide\n",
    "dictionnaire = {'Coleur':'rouge','banane':6} # Crée un dictionnaire avec des clés et des valeurs initiales\n"
   ]
  },
  {
   "cell_type": "code",
   "execution_count": 14,
   "id": "f6e2b2d7",
   "metadata": {},
   "outputs": [
    {
     "name": "stdout",
     "output_type": "stream",
     "text": [
      "rouge\n"
     ]
    }
   ],
   "source": [
    "# Accès aux éléments d'un dictionnaire :\n",
    "print(dictionnaire['Coleur']) # Affiche la valeur associée à 'Coleur'"
   ]
  },
  {
   "cell_type": "code",
   "execution_count": 15,
   "id": "83cd938b",
   "metadata": {},
   "outputs": [],
   "source": [
    "# Modification d'un élément d'un dictionnaire :\n",
    "dictionnaire['banane'] = 3 # Modifie la valeur associée à 'banane' "
   ]
  },
  {
   "cell_type": "code",
   "execution_count": 16,
   "id": "069ad80d",
   "metadata": {},
   "outputs": [],
   "source": [
    "# Ajout d'un nouvel élément à un dictionnaire :\n",
    "dictionnaire['GenreGenre'] = 'Homme' # Ajoute un nouvel élément au dictionnaire"
   ]
  },
  {
   "cell_type": "code",
   "execution_count": 17,
   "id": "2807428c",
   "metadata": {},
   "outputs": [],
   "source": [
    "# Suppression d'un élément d'un dictionnaire :\n",
    "del dictionnaire['banane'] # Supprime l'élément avec la clé 'banane' "
   ]
  },
  {
   "cell_type": "code",
   "execution_count": 18,
   "id": "bd471e2c",
   "metadata": {},
   "outputs": [
    {
     "name": "stdout",
     "output_type": "stream",
     "text": [
      "Coleur rouge\n",
      "Genre Homme\n"
     ]
    }
   ],
   "source": [
    "# Parcours des éléments d'un dictionnaire :\n",
    "for clé, valeur in dictionnaire.items(): print(clé, valeur) # Affiche chaque clé et valeur du dictionnaire "
   ]
  },
  {
   "cell_type": "code",
   "execution_count": 19,
   "id": "3fa42b4b",
   "metadata": {},
   "outputs": [
    {
     "name": "stdout",
     "output_type": "stream",
     "text": [
      "La clé existe dans le dictionnaire\n"
     ]
    }
   ],
   "source": [
    "# Vérification de l'existence d'une clé dans un dictionnaire :\n",
    "if 'Genre' in dictionnaire: print('La clé existe dans le dictionnaire')\n"
   ]
  },
  {
   "cell_type": "code",
   "execution_count": 20,
   "id": "5763ec02",
   "metadata": {},
   "outputs": [],
   "source": [
    "# Obtenir la liste des clés ou des valeurs d'un dictionnaire\n",
    "clés = dictionnaire.keys() # Renvoie un objet contenant toutes les clés \n",
    "valeurs = dictionnaire.values() # Renvoie un objet contenant toutes les valeurs "
   ]
  },
  {
   "cell_type": "code",
   "execution_count": 21,
   "id": "8e2444fb",
   "metadata": {},
   "outputs": [
    {
     "data": {
      "text/plain": [
       "dict_values(['rouge', 'Homme'])"
      ]
     },
     "execution_count": 21,
     "metadata": {},
     "output_type": "execute_result"
    }
   ],
   "source": [
    "valeurs"
   ]
  },
  {
   "cell_type": "code",
   "execution_count": 22,
   "id": "93cc2c31",
   "metadata": {},
   "outputs": [
    {
     "data": {
      "text/plain": [
       "dict_keys(['Coleur', 'Genre'])"
      ]
     },
     "execution_count": 22,
     "metadata": {},
     "output_type": "execute_result"
    }
   ],
   "source": [
    "clés"
   ]
  }
 ],
 "metadata": {
  "kernelspec": {
   "display_name": "Python 3 (ipykernel)",
   "language": "python",
   "name": "python3"
  },
  "language_info": {
   "codemirror_mode": {
    "name": "ipython",
    "version": 3
   },
   "file_extension": ".py",
   "mimetype": "text/x-python",
   "name": "python",
   "nbconvert_exporter": "python",
   "pygments_lexer": "ipython3",
   "version": "3.7.6"
  }
 },
 "nbformat": 4,
 "nbformat_minor": 5
}
