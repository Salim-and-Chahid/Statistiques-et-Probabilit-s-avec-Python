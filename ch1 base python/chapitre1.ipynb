{
 "cells": [
  {
   "cell_type": "code",
   "execution_count": 1,
   "id": "1833b359",
   "metadata": {},
   "outputs": [
    {
     "name": "stdout",
     "output_type": "stream",
     "text": [
      "Hello World !\n"
     ]
    }
   ],
   "source": [
    "print(\"Hello World !\")"
   ]
  },
  {
   "cell_type": "code",
   "execution_count": 2,
   "id": "5d48e234",
   "metadata": {},
   "outputs": [
    {
     "name": "stdout",
     "output_type": "stream",
     "text": [
      "Entrez votre NOM : salim\n"
     ]
    }
   ],
   "source": [
    "Nom = input(\"Entrez votre NOM : \")"
   ]
  },
  {
   "cell_type": "code",
   "execution_count": 3,
   "id": "cc38e487",
   "metadata": {},
   "outputs": [
    {
     "name": "stdout",
     "output_type": "stream",
     "text": [
      "Entrez votre âge : 12\n",
      "Entrez votre poids : 77.5\n"
     ]
    }
   ],
   "source": [
    "age = int(input(\"Entrez votre âge : \"))\n",
    "poids = float(input(\"Entrez votre poids : \"))"
   ]
  },
  {
   "cell_type": "code",
   "execution_count": 4,
   "id": "0ceb6209",
   "metadata": {},
   "outputs": [],
   "source": [
    "nom = \"azghay\"\n",
    "age = 21\n",
    "poids = 75.5\n",
    "valider = True"
   ]
  },
  {
   "cell_type": "code",
   "execution_count": 5,
   "id": "44b25b30",
   "metadata": {},
   "outputs": [],
   "source": [
    "age = 25   # mise à jour de la valeur de la variable \"âge\""
   ]
  },
  {
   "cell_type": "code",
   "execution_count": 3,
   "id": "691a5ebb",
   "metadata": {},
   "outputs": [],
   "source": [
    "nom_liste = [1, 2, 3, 4] # liste initialiser\n",
    "nom_liste2 = [] # liste vide"
   ]
  },
  {
   "cell_type": "code",
   "execution_count": 7,
   "id": "d0e4d946",
   "metadata": {},
   "outputs": [],
   "source": [
    "nom_liste = []"
   ]
  },
  {
   "cell_type": "code",
   "execution_count": 8,
   "id": "84d3c721",
   "metadata": {},
   "outputs": [
    {
     "name": "stdout",
     "output_type": "stream",
     "text": [
      "[1, 2, 3, 4]\n"
     ]
    }
   ],
   "source": [
    "nom_liste = [1, 2, 3, 4]\n",
    "print(nom_liste)# afficher tous les éléments de la liste"
   ]
  },
  {
   "cell_type": "code",
   "execution_count": 9,
   "id": "d4b383cf",
   "metadata": {},
   "outputs": [
    {
     "name": "stdout",
     "output_type": "stream",
     "text": [
      "1\n",
      "3\n"
     ]
    }
   ],
   "source": [
    "print(nom_liste[0]) # afficher 1\n",
    "print(nom_liste[2]) # afficher 3"
   ]
  },
  {
   "cell_type": "code",
   "execution_count": 10,
   "id": "9cdd72fd",
   "metadata": {},
   "outputs": [
    {
     "name": "stdout",
     "output_type": "stream",
     "text": [
      "4\n",
      "2\n"
     ]
    }
   ],
   "source": [
    "print(nom_liste[-1]) # afficher 4\n",
    "print(nom_liste[-3]) # afficher 2"
   ]
  },
  {
   "cell_type": "code",
   "execution_count": 11,
   "id": "6a9aa1b3",
   "metadata": {},
   "outputs": [
    {
     "name": "stdout",
     "output_type": "stream",
     "text": [
      "[5, 2, 3, 4]\n"
     ]
    }
   ],
   "source": [
    "nom_liste[0] = 5 # modifies l’élément de l’index 0\n",
    "print(nom_liste) # afficher [5,2,3,4]"
   ]
  },
  {
   "cell_type": "code",
   "execution_count": 12,
   "id": "1416aaa7",
   "metadata": {},
   "outputs": [
    {
     "name": "stdout",
     "output_type": "stream",
     "text": [
      "[1, 2, 3, 4, 11]\n"
     ]
    }
   ],
   "source": [
    "nom_liste = [1, 2, 3, 4]\n",
    "nom_liste.append(11)\n",
    "print(nom_liste) # afficher [1,2,3,4,11]"
   ]
  },
  {
   "cell_type": "code",
   "execution_count": 13,
   "id": "a9c6c7a5",
   "metadata": {},
   "outputs": [
    {
     "ename": "AttributeError",
     "evalue": "'list' object has no attribute 'inssert'",
     "output_type": "error",
     "traceback": [
      "\u001b[1;31m---------------------------------------------------------------------------\u001b[0m",
      "\u001b[1;31mAttributeError\u001b[0m                            Traceback (most recent call last)",
      "Cell \u001b[1;32mIn[13], line 2\u001b[0m\n\u001b[0;32m      1\u001b[0m nom_liste \u001b[38;5;241m=\u001b[39m [\u001b[38;5;241m1\u001b[39m, \u001b[38;5;241m2\u001b[39m, \u001b[38;5;241m3\u001b[39m, \u001b[38;5;241m4\u001b[39m]\n\u001b[1;32m----> 2\u001b[0m \u001b[43mnom_liste\u001b[49m\u001b[38;5;241;43m.\u001b[39;49m\u001b[43minssert\u001b[49m(\u001b[38;5;241m2\u001b[39m,\u001b[38;5;241m11\u001b[39m)  \u001b[38;5;66;03m# ajouter au millier de la liste\u001b[39;00m\n\u001b[0;32m      3\u001b[0m \u001b[38;5;28mprint\u001b[39m(nom_liste) \u001b[38;5;66;03m# afficher [1,2,11,3,4]\u001b[39;00m\n\u001b[0;32m      4\u001b[0m nom_liste\u001b[38;5;241m.\u001b[39minssert(\u001b[38;5;241m0\u001b[39m,\u001b[38;5;241m0\u001b[39m)  \u001b[38;5;66;03m# ajouter au début de la liste\u001b[39;00m\n",
      "\u001b[1;31mAttributeError\u001b[0m: 'list' object has no attribute 'inssert'"
     ]
    }
   ],
   "source": [
    "nom_liste = [1, 2, 3, 4]\n",
    "nom_liste.inssert(2,11)  # ajouter au millier de la liste\n",
    "print(nom_liste) # afficher [1,2,11,3,4]\n",
    "nom_liste.inssert(0,0)  # ajouter au début de la liste\n",
    "print(nom_liste) # afficher [0,1,2,11,3,4]"
   ]
  },
  {
   "cell_type": "code",
   "execution_count": 14,
   "id": "6e6c2e15",
   "metadata": {},
   "outputs": [
    {
     "name": "stdout",
     "output_type": "stream",
     "text": [
      "[1, 2, 11, 3, 4]\n",
      "[0, 1, 2, 11, 3, 4]\n"
     ]
    }
   ],
   "source": [
    "nom_liste = [1, 2, 3, 4]\n",
    "nom_liste.insert(2,11)  # ajouter au millier de la liste\n",
    "print(nom_liste) # afficher [1,2,11,3,4]\n",
    "nom_liste.insert(0,0)  # ajouter au début de la liste\n",
    "print(nom_liste) # afficher [0,1,2,11,3,4]"
   ]
  },
  {
   "cell_type": "code",
   "execution_count": 15,
   "id": "8a2f6fb7",
   "metadata": {},
   "outputs": [
    {
     "name": "stdout",
     "output_type": "stream",
     "text": [
      "[1, 3, 4, 2]\n",
      "2\n",
      "[1, 3, 4]\n"
     ]
    }
   ],
   "source": [
    "nom_liste = [1,2,3,4,2]\n",
    "nom_liste.remove(2) # supprime la première élément égale 2\n",
    "print(nom_liste) # affiche [1,3,4,2]\n",
    "\n",
    "ele = nom_liste.pop() # supprime et retourne le dernier élément\n",
    "print(ele) # affiche 2\n",
    "print(nom_liste) # affiche [1,3,4]"
   ]
  },
  {
   "cell_type": "code",
   "execution_count": 16,
   "id": "8a0f921b",
   "metadata": {},
   "outputs": [],
   "source": [
    "liste = [1, 2, 3, 4, 5]"
   ]
  },
  {
   "cell_type": "code",
   "execution_count": 17,
   "id": "6e6b35ac",
   "metadata": {},
   "outputs": [
    {
     "name": "stdout",
     "output_type": "stream",
     "text": [
      "False\n"
     ]
    }
   ],
   "source": [
    "if 4 > 5:\n",
    "    print(\"True\")\n",
    "else:\n",
    "    print(\"False\")"
   ]
  },
  {
   "cell_type": "code",
   "execution_count": 18,
   "id": "0be1a083",
   "metadata": {},
   "outputs": [
    {
     "name": "stdout",
     "output_type": "stream",
     "text": [
      "CSS\n"
     ]
    }
   ],
   "source": [
    "if 4 > 5:\n",
    "    print(\"PHP\")\n",
    "elif 4 > 3:\n",
    "    print(\"CSS\")\n",
    "else:\n",
    "    print(\"JAVA\")"
   ]
  },
  {
   "cell_type": "code",
   "execution_count": 19,
   "id": "3222bb32",
   "metadata": {},
   "outputs": [
    {
     "ename": "SyntaxError",
     "evalue": "incomplete input (3900355771.py, line 2)",
     "output_type": "error",
     "traceback": [
      "\u001b[1;36m  Cell \u001b[1;32mIn[19], line 2\u001b[1;36m\u001b[0m\n\u001b[1;33m    while j < 5:\u001b[0m\n\u001b[1;37m                ^\u001b[0m\n\u001b[1;31mSyntaxError\u001b[0m\u001b[1;31m:\u001b[0m incomplete input\n"
     ]
    }
   ],
   "source": [
    "j = 0\n",
    "while j < 5:"
   ]
  },
  {
   "cell_type": "code",
   "execution_count": 20,
   "id": "4fd81f44",
   "metadata": {},
   "outputs": [
    {
     "name": "stdout",
     "output_type": "stream",
     "text": [
      "0 1 2 3 4 "
     ]
    }
   ],
   "source": [
    "j = 0\n",
    "while j < 5:\n",
    "    print(j,end=' ')\n",
    "    j += 1"
   ]
  },
  {
   "cell_type": "code",
   "execution_count": 21,
   "id": "751de826",
   "metadata": {},
   "outputs": [
    {
     "name": "stdout",
     "output_type": "stream",
     "text": [
      "ananas banane avocat cerise "
     ]
    }
   ],
   "source": [
    "fruits = [\"ananas\", \"banane\", \"avocat\", \"cerise\"]\n",
    "for fruit in fruits:\n",
    "    print(fruit , end=' ')"
   ]
  },
  {
   "cell_type": "code",
   "execution_count": 22,
   "id": "f1fda609",
   "metadata": {},
   "outputs": [
    {
     "name": "stdout",
     "output_type": "stream",
     "text": [
      "0 1 2 3 4 "
     ]
    }
   ],
   "source": [
    "for i in range(5):\n",
    "    print(i, end=' ')"
   ]
  },
  {
   "cell_type": "code",
   "execution_count": 1,
   "id": "a5de01cb",
   "metadata": {},
   "outputs": [
    {
     "name": "stdout",
     "output_type": "stream",
     "text": [
      "le max est :  3\n"
     ]
    }
   ],
   "source": [
    "a = 2\n",
    "b = 3\n",
    "if a > b:\n",
    "    print(\"le max est : \",a)\n",
    "else:\n",
    "    print(\"le max est : \",b)"
   ]
  },
  {
   "cell_type": "code",
   "execution_count": 2,
   "id": "f49f14bc",
   "metadata": {},
   "outputs": [
    {
     "name": "stdout",
     "output_type": "stream",
     "text": [
      "a est positive \n"
     ]
    }
   ],
   "source": [
    "a = 9\n",
    "if a < 0:\n",
    "    \n",
    "    print(\"a est negative \")\n",
    "elif a == 0:\n",
    "    print(\"a est null \")\n",
    "else:\n",
    "    print(\"a est positive \")"
   ]
  },
  {
   "cell_type": "code",
   "execution_count": 4,
   "id": "449df358",
   "metadata": {},
   "outputs": [],
   "source": [
    "nom_liste = [1, 2, 3, 4] # liste initialiser\n",
    "nom_liste2 = [] # liste vide"
   ]
  },
  {
   "cell_type": "code",
   "execution_count": 5,
   "id": "96bbd793",
   "metadata": {},
   "outputs": [],
   "source": [
    "## le mode lecture "
   ]
  },
  {
   "cell_type": "code",
   "execution_count": 6,
   "id": "ba06747a",
   "metadata": {},
   "outputs": [
    {
     "ename": "FileNotFoundError",
     "evalue": "[Errno 2] No such file or directory: 'fichier.txt'",
     "output_type": "error",
     "traceback": [
      "\u001b[1;31m---------------------------------------------------------------------------\u001b[0m",
      "\u001b[1;31mFileNotFoundError\u001b[0m                         Traceback (most recent call last)",
      "Cell \u001b[1;32mIn[6], line 1\u001b[0m\n\u001b[1;32m----> 1\u001b[0m ele \u001b[38;5;241m=\u001b[39m \u001b[38;5;28;43mopen\u001b[39;49m\u001b[43m(\u001b[49m\u001b[38;5;124;43m\"\u001b[39;49m\u001b[38;5;124;43mfichier.txt\u001b[39;49m\u001b[38;5;124;43m\"\u001b[39;49m\u001b[43m,\u001b[49m\u001b[38;5;124;43m\"\u001b[39;49m\u001b[38;5;124;43mr+\u001b[39;49m\u001b[38;5;124;43m\"\u001b[39;49m\u001b[43m)\u001b[49m\n\u001b[0;32m      2\u001b[0m ele\u001b[38;5;241m.\u001b[39mwrite(\u001b[38;5;124m\"\u001b[39m\u001b[38;5;124mbanan\u001b[39m\u001b[38;5;124m\"\u001b[39m)\n\u001b[0;32m      3\u001b[0m ele\u001b[38;5;241m.\u001b[39mwrite(\u001b[38;5;124m\"\u001b[39m\u001b[38;5;124mananas\u001b[39m\u001b[38;5;124m\"\u001b[39m)\n",
      "File \u001b[1;32m~\\anaconda3\\envs\\PFE\\lib\\site-packages\\IPython\\core\\interactiveshell.py:284\u001b[0m, in \u001b[0;36m_modified_open\u001b[1;34m(file, *args, **kwargs)\u001b[0m\n\u001b[0;32m    277\u001b[0m \u001b[38;5;28;01mif\u001b[39;00m file \u001b[38;5;129;01min\u001b[39;00m {\u001b[38;5;241m0\u001b[39m, \u001b[38;5;241m1\u001b[39m, \u001b[38;5;241m2\u001b[39m}:\n\u001b[0;32m    278\u001b[0m     \u001b[38;5;28;01mraise\u001b[39;00m \u001b[38;5;167;01mValueError\u001b[39;00m(\n\u001b[0;32m    279\u001b[0m         \u001b[38;5;124mf\u001b[39m\u001b[38;5;124m\"\u001b[39m\u001b[38;5;124mIPython won\u001b[39m\u001b[38;5;124m'\u001b[39m\u001b[38;5;124mt let you open fd=\u001b[39m\u001b[38;5;132;01m{\u001b[39;00mfile\u001b[38;5;132;01m}\u001b[39;00m\u001b[38;5;124m by default \u001b[39m\u001b[38;5;124m\"\u001b[39m\n\u001b[0;32m    280\u001b[0m         \u001b[38;5;124m\"\u001b[39m\u001b[38;5;124mas it is likely to crash IPython. If you know what you are doing, \u001b[39m\u001b[38;5;124m\"\u001b[39m\n\u001b[0;32m    281\u001b[0m         \u001b[38;5;124m\"\u001b[39m\u001b[38;5;124myou can use builtins\u001b[39m\u001b[38;5;124m'\u001b[39m\u001b[38;5;124m open.\u001b[39m\u001b[38;5;124m\"\u001b[39m\n\u001b[0;32m    282\u001b[0m     )\n\u001b[1;32m--> 284\u001b[0m \u001b[38;5;28;01mreturn\u001b[39;00m io_open(file, \u001b[38;5;241m*\u001b[39margs, \u001b[38;5;241m*\u001b[39m\u001b[38;5;241m*\u001b[39mkwargs)\n",
      "\u001b[1;31mFileNotFoundError\u001b[0m: [Errno 2] No such file or directory: 'fichier.txt'"
     ]
    }
   ],
   "source": [
    "ele = open(\"fichier.txt\",\"r+\")\n",
    "ele.write(\"banan\")\n",
    "ele.write(\"ananas\")"
   ]
  },
  {
   "cell_type": "code",
   "execution_count": 7,
   "id": "b502b214",
   "metadata": {},
   "outputs": [
    {
     "data": {
      "text/plain": [
       "6"
      ]
     },
     "execution_count": 7,
     "metadata": {},
     "output_type": "execute_result"
    }
   ],
   "source": [
    "ele = open(\"fichier.txt\",\"w+\")\n",
    "ele.write(\"banan\")\n",
    "ele.write(\"ananas\")"
   ]
  },
  {
   "cell_type": "code",
   "execution_count": 8,
   "id": "a1849203",
   "metadata": {},
   "outputs": [
    {
     "data": {
      "text/plain": [
       "6"
      ]
     },
     "execution_count": 8,
     "metadata": {},
     "output_type": "execute_result"
    }
   ],
   "source": [
    "ele = open(\"fichier.txt\",\"w\")\n",
    "ele.write(\"banan\")\n",
    "ele.write(\"ananas\")"
   ]
  },
  {
   "cell_type": "code",
   "execution_count": 9,
   "id": "7feba94e",
   "metadata": {},
   "outputs": [
    {
     "data": {
      "text/plain": [
       "5"
      ]
     },
     "execution_count": 9,
     "metadata": {},
     "output_type": "execute_result"
    }
   ],
   "source": [
    "ele = open(\"fichier.txt\",\"a+\")\n",
    "ele.write(\"pomme\")"
   ]
  },
  {
   "cell_type": "code",
   "execution_count": 10,
   "id": "4e84844a",
   "metadata": {},
   "outputs": [
    {
     "name": "stdout",
     "output_type": "stream",
     "text": [
      "bananananas\n"
     ]
    }
   ],
   "source": [
    "with open(\"fichier.txt\",\"r+\") as f:\n",
    "    print(f.read())"
   ]
  },
  {
   "cell_type": "code",
   "execution_count": 11,
   "id": "5358574a",
   "metadata": {},
   "outputs": [],
   "source": [
    "ele = open(\"fichier.txt\",\"w\")\n",
    "ele.write(\"banan \\n\")\n",
    "ele.write(\"ananas \\n\")\n",
    "ele.close()"
   ]
  },
  {
   "cell_type": "code",
   "execution_count": 12,
   "id": "5d637a00",
   "metadata": {},
   "outputs": [],
   "source": [
    "ele1 = open(\"fichier.txt\",\"a+\")\n",
    "ele1.write(\"pomme\")\n",
    "ele1.close()"
   ]
  },
  {
   "cell_type": "code",
   "execution_count": 13,
   "id": "019630ed",
   "metadata": {},
   "outputs": [
    {
     "name": "stdout",
     "output_type": "stream",
     "text": [
      "banan \n",
      "ananas \n",
      "pomme\n"
     ]
    }
   ],
   "source": [
    "with open(\"fichier.txt\",\"r+\") as f:\n",
    "    print(f.read())"
   ]
  },
  {
   "cell_type": "code",
   "execution_count": 14,
   "id": "c2518367",
   "metadata": {},
   "outputs": [
    {
     "name": "stdout",
     "output_type": "stream",
     "text": [
      "[1 2 3 4 5]\n"
     ]
    }
   ],
   "source": [
    "import numpy as np\n",
    "\n",
    "# Création d'un tableau à partir d'une liste\n",
    "list = [1, 2, 3, 4, 5]\n",
    "array = np.array(list)\n",
    "\n",
    "print(array) # afficher [1 2 3 4 5]\n"
   ]
  },
  {
   "cell_type": "code",
   "execution_count": 15,
   "id": "195cc293",
   "metadata": {},
   "outputs": [],
   "source": [
    "# Création d'un tableau de zéros :"
   ]
  },
  {
   "cell_type": "code",
   "execution_count": 16,
   "id": "60611c7e",
   "metadata": {},
   "outputs": [
    {
     "name": "stdout",
     "output_type": "stream",
     "text": [
      "[[0. 0. 0.]\n",
      " [0. 0. 0.]]\n"
     ]
    }
   ],
   "source": [
    "import numpy as np\n",
    "\n",
    "# Création d'un tableau de zéros\n",
    "zeros_array = np.zeros((2, 3))\n",
    "\n",
    "print(zeros_array)"
   ]
  },
  {
   "cell_type": "code",
   "execution_count": 17,
   "id": "ca9e1b4d",
   "metadata": {},
   "outputs": [],
   "source": [
    "# Création d'un tableau de uns"
   ]
  },
  {
   "cell_type": "code",
   "execution_count": 18,
   "id": "df2e4ec5",
   "metadata": {},
   "outputs": [
    {
     "name": "stdout",
     "output_type": "stream",
     "text": [
      "[[1. 1. 1. 1.]\n",
      " [1. 1. 1. 1.]\n",
      " [1. 1. 1. 1.]]\n"
     ]
    }
   ],
   "source": [
    "import numpy as np\n",
    "\n",
    "# Création d'un tableau de 1\n",
    "ones_array = np.ones((3, 4))\n",
    "\n",
    "print(ones_array)"
   ]
  },
  {
   "cell_type": "code",
   "execution_count": 19,
   "id": "12523899",
   "metadata": {},
   "outputs": [],
   "source": [
    "# Création d'un tableau vide"
   ]
  },
  {
   "cell_type": "code",
   "execution_count": 20,
   "id": "3d6c9d0e",
   "metadata": {},
   "outputs": [
    {
     "name": "stdout",
     "output_type": "stream",
     "text": [
      "[[0. 0. 0.]\n",
      " [0. 0. 0.]]\n"
     ]
    }
   ],
   "source": [
    "import numpy as np\n",
    "\n",
    "# Création d'un tableau vide\n",
    "my_array = np.empty((2, 3))\n",
    "\n",
    "print(my_array)"
   ]
  },
  {
   "cell_type": "code",
   "execution_count": 21,
   "id": "64680096",
   "metadata": {},
   "outputs": [],
   "source": [
    "# Création d'un tableau d'une séquence de nombres"
   ]
  },
  {
   "cell_type": "code",
   "execution_count": 22,
   "id": "b349f985",
   "metadata": {},
   "outputs": [
    {
     "name": "stdout",
     "output_type": "stream",
     "text": [
      "[0 3 6 9]\n"
     ]
    }
   ],
   "source": [
    "import numpy as np\n",
    "\n",
    "# Création d'un tableau d'une séquence de nombres\n",
    "range_array = np.arange(0, 10, 3)\n",
    "\n",
    "print(range_array) # afficher [0 3 6 9]"
   ]
  },
  {
   "cell_type": "code",
   "execution_count": 23,
   "id": "fbae5759",
   "metadata": {},
   "outputs": [
    {
     "ename": "SyntaxError",
     "evalue": "invalid syntax (1625354571.py, line 1)",
     "output_type": "error",
     "traceback": [
      "\u001b[1;36m  Cell \u001b[1;32mIn[23], line 1\u001b[1;36m\u001b[0m\n\u001b[1;33m    $ Addition :\u001b[0m\n\u001b[1;37m    ^\u001b[0m\n\u001b[1;31mSyntaxError\u001b[0m\u001b[1;31m:\u001b[0m invalid syntax\n"
     ]
    }
   ],
   "source": [
    "$ Addition :"
   ]
  },
  {
   "cell_type": "code",
   "execution_count": 24,
   "id": "7c6b8b8d",
   "metadata": {},
   "outputs": [],
   "source": [
    "#@ Addition"
   ]
  },
  {
   "cell_type": "code",
   "execution_count": 25,
   "id": "bfd00cdc",
   "metadata": {},
   "outputs": [
    {
     "ename": "SyntaxError",
     "evalue": "invalid syntax (478412749.py, line 1)",
     "output_type": "error",
     "traceback": [
      "\u001b[1;36m  Cell \u001b[1;32mIn[25], line 1\u001b[1;36m\u001b[0m\n\u001b[1;33m    @#Addition\u001b[0m\n\u001b[1;37m     ^\u001b[0m\n\u001b[1;31mSyntaxError\u001b[0m\u001b[1;31m:\u001b[0m invalid syntax\n"
     ]
    }
   ],
   "source": [
    "@#Addition"
   ]
  },
  {
   "cell_type": "code",
   "execution_count": 26,
   "id": "3b17d84b",
   "metadata": {},
   "outputs": [],
   "source": [
    "# Addition"
   ]
  },
  {
   "cell_type": "code",
   "execution_count": 27,
   "id": "6bb383c5",
   "metadata": {},
   "outputs": [
    {
     "name": "stdout",
     "output_type": "stream",
     "text": [
      "12\n"
     ]
    }
   ],
   "source": [
    "import numpy as np\n",
    "\n",
    "x = np.array([1, 1, 5])\n",
    "y = np.array([7, 5, 6])\n",
    "addition = a + b\n",
    "print(addition) # [6 4 1]\n"
   ]
  },
  {
   "cell_type": "code",
   "execution_count": 28,
   "id": "50758c7b",
   "metadata": {},
   "outputs": [
    {
     "name": "stdout",
     "output_type": "stream",
     "text": [
      "[ 8  6 11]\n"
     ]
    }
   ],
   "source": [
    "import numpy as np\n",
    "\n",
    "x = np.array([1, 1, 5])\n",
    "y = np.array([7, 5, 6])\n",
    "addition = x + y\n",
    "print(addition) # [8 6 11]"
   ]
  },
  {
   "cell_type": "code",
   "execution_count": 29,
   "id": "632f42df",
   "metadata": {},
   "outputs": [],
   "source": [
    "# Soustraction "
   ]
  },
  {
   "cell_type": "code",
   "execution_count": 30,
   "id": "77b63091",
   "metadata": {},
   "outputs": [
    {
     "name": "stdout",
     "output_type": "stream",
     "text": [
      "[-6 -4 -1]\n"
     ]
    }
   ],
   "source": [
    "import numpy as np\n",
    "\n",
    "x = np.array([1, 1, 5])\n",
    "y = np.array([7, 5, 6])\n",
    "soustraction = x - y\n",
    "print(soustraction) # [6 4 1]"
   ]
  },
  {
   "cell_type": "code",
   "execution_count": 31,
   "id": "8999c149",
   "metadata": {},
   "outputs": [
    {
     "name": "stdout",
     "output_type": "stream",
     "text": [
      "[6 4 1]\n"
     ]
    }
   ],
   "source": [
    "import numpy as np\n",
    "\n",
    "x = np.array([1, 1, 5])\n",
    "y = np.array([7, 5, 6])\n",
    "soustraction = y - x\n",
    "print(soustraction) # [6 4 1]"
   ]
  },
  {
   "cell_type": "code",
   "execution_count": 32,
   "id": "512b5ad4",
   "metadata": {},
   "outputs": [],
   "source": [
    "# Multiplication"
   ]
  },
  {
   "cell_type": "code",
   "execution_count": 33,
   "id": "bb84a89e",
   "metadata": {},
   "outputs": [
    {
     "ename": "NameError",
     "evalue": "name 'c' is not defined",
     "output_type": "error",
     "traceback": [
      "\u001b[1;31m---------------------------------------------------------------------------\u001b[0m",
      "\u001b[1;31mNameError\u001b[0m                                 Traceback (most recent call last)",
      "Cell \u001b[1;32mIn[33], line 6\u001b[0m\n\u001b[0;32m      4\u001b[0m y \u001b[38;5;241m=\u001b[39m np\u001b[38;5;241m.\u001b[39marray([\u001b[38;5;241m5\u001b[39m, \u001b[38;5;241m5\u001b[39m, \u001b[38;5;241m4\u001b[39m])\n\u001b[0;32m      5\u001b[0m z \u001b[38;5;241m=\u001b[39m x \u001b[38;5;241m*\u001b[39m y\n\u001b[1;32m----> 6\u001b[0m \u001b[38;5;28mprint\u001b[39m(\u001b[43mc\u001b[49m)\n",
      "\u001b[1;31mNameError\u001b[0m: name 'c' is not defined"
     ]
    }
   ],
   "source": [
    "import numpy as np\n",
    "\n",
    "x = np.array([1, 3, 3])\n",
    "y = np.array([5, 5, 4])\n",
    "z = x * y\n",
    "print(c) # afficher [5 15 12]\n"
   ]
  },
  {
   "cell_type": "code",
   "execution_count": 34,
   "id": "42b3ed7d",
   "metadata": {},
   "outputs": [
    {
     "name": "stdout",
     "output_type": "stream",
     "text": [
      "[ 5 15 12]\n"
     ]
    }
   ],
   "source": [
    "import numpy as np\n",
    "\n",
    "x = np.array([1, 3, 3])\n",
    "y = np.array([5, 5, 4])\n",
    "z = x * y\n",
    "print(z) # afficher [5 15 12]"
   ]
  },
  {
   "cell_type": "code",
   "execution_count": 35,
   "id": "5103d095",
   "metadata": {},
   "outputs": [],
   "source": [
    "# Division "
   ]
  },
  {
   "cell_type": "code",
   "execution_count": 36,
   "id": "100d32da",
   "metadata": {},
   "outputs": [
    {
     "name": "stdout",
     "output_type": "stream",
     "text": [
      "[3.  1.5 4. ]\n"
     ]
    }
   ],
   "source": [
    "import numpy as np\n",
    "\n",
    "x = np.array([6, 3, 12])\n",
    "y = np.array([2, 2, 3])\n",
    "z = x / y\n",
    "print(z) # afficher [3 1,5 4]"
   ]
  },
  {
   "cell_type": "code",
   "execution_count": 37,
   "id": "ccd5b02f",
   "metadata": {},
   "outputs": [
    {
     "name": "stdout",
     "output_type": "stream",
     "text": [
      "[3.  1.5 4. ]\n"
     ]
    }
   ],
   "source": [
    "import numpy as np\n",
    "\n",
    "x = np.array([6, 3, 12])\n",
    "y = np.array([2, 2, 3])\n",
    "z = x / y\n",
    "print(z) # afficher [3. 1.5 4.]"
   ]
  },
  {
   "cell_type": "code",
   "execution_count": 38,
   "id": "1c84e3f8",
   "metadata": {},
   "outputs": [],
   "source": [
    "# Puissance"
   ]
  },
  {
   "cell_type": "code",
   "execution_count": 39,
   "id": "37e2a953",
   "metadata": {},
   "outputs": [
    {
     "name": "stdout",
     "output_type": "stream",
     "text": [
      "[3.  1.5 4. ]\n"
     ]
    }
   ],
   "source": [
    "import numpy as np\n",
    "\n",
    "x = np.array([6, 3, 7])\n",
    "y = np.power(x, 2)\n",
    "print(z) # afficher [36 9 49]"
   ]
  },
  {
   "cell_type": "code",
   "execution_count": 40,
   "id": "40d5fd45",
   "metadata": {},
   "outputs": [
    {
     "name": "stdout",
     "output_type": "stream",
     "text": [
      "[36  9 49]\n"
     ]
    }
   ],
   "source": [
    "import numpy as np\n",
    "\n",
    "x = np.array([6, 3, 7])\n",
    "y = np.power(x, 2)\n",
    "print(y) # afficher [36 9 49]"
   ]
  },
  {
   "cell_type": "code",
   "execution_count": 41,
   "id": "5e872796",
   "metadata": {},
   "outputs": [],
   "source": [
    "# tan()"
   ]
  },
  {
   "cell_type": "code",
   "execution_count": 42,
   "id": "72514757",
   "metadata": {},
   "outputs": [],
   "source": [
    "# sqrt()"
   ]
  },
  {
   "cell_type": "code",
   "execution_count": 43,
   "id": "64997819",
   "metadata": {},
   "outputs": [
    {
     "name": "stdout",
     "output_type": "stream",
     "text": [
      "[8. 7. 4.]\n"
     ]
    }
   ],
   "source": [
    "import numpy as np\n",
    "\n",
    "a = np.array([64, 49, 16])\n",
    "b = np.sqrt(a)\n",
    "print(b) # [8. 7. 4.]\n"
   ]
  },
  {
   "cell_type": "code",
   "execution_count": 44,
   "id": "232de3f8",
   "metadata": {},
   "outputs": [],
   "source": [
    "# exp()"
   ]
  },
  {
   "cell_type": "code",
   "execution_count": 45,
   "id": "2fb73467",
   "metadata": {},
   "outputs": [
    {
     "name": "stdout",
     "output_type": "stream",
     "text": [
      "[ 2.71828183  7.3890561  20.08553692]\n"
     ]
    }
   ],
   "source": [
    "import numpy as np\n",
    "\n",
    "x = np.array([1, 2, 3])\n",
    "y = np.exp(x)\n",
    "print(y) # afficher [ 2.71828183  7.3890561  20.08553692]\n"
   ]
  },
  {
   "cell_type": "code",
   "execution_count": 46,
   "id": "a2bd6ec0",
   "metadata": {},
   "outputs": [],
   "source": [
    "# log()"
   ]
  },
  {
   "cell_type": "code",
   "execution_count": 47,
   "id": "5f55f5ad",
   "metadata": {},
   "outputs": [
    {
     "name": "stdout",
     "output_type": "stream",
     "text": [
      "[4.15888308 3.8918203  2.77258872]\n"
     ]
    }
   ],
   "source": [
    "import numpy as np\n",
    "\n",
    "x = np.array([1, 10, 100])\n",
    "y = np.log(a)\n",
    "print(y) # afficher [0.         2.30258509 4.60517019]\n"
   ]
  },
  {
   "cell_type": "code",
   "execution_count": 48,
   "id": "ead8cda9",
   "metadata": {},
   "outputs": [],
   "source": [
    "# Création d'un tableau numpy à partir d'une liste de listes"
   ]
  },
  {
   "cell_type": "code",
   "execution_count": 49,
   "id": "9676d705",
   "metadata": {},
   "outputs": [
    {
     "name": "stdout",
     "output_type": "stream",
     "text": [
      "[[1 2 3]\n",
      " [4 5 6]]\n"
     ]
    }
   ],
   "source": [
    "import numpy as np\n",
    "\n",
    "x = np.array([[1, 2, 3], [4, 5, 6]])\n",
    "print(x)\n"
   ]
  },
  {
   "cell_type": "code",
   "execution_count": 50,
   "id": "4c975e5a",
   "metadata": {},
   "outputs": [],
   "source": [
    "# Accès aux éléments d'un tableau numpy"
   ]
  },
  {
   "cell_type": "code",
   "execution_count": 51,
   "id": "d599fdd5",
   "metadata": {},
   "outputs": [
    {
     "name": "stdout",
     "output_type": "stream",
     "text": [
      "1\n",
      "5\n",
      "[2 3 4 5]\n"
     ]
    }
   ],
   "source": [
    "import numpy as np\n",
    "\n",
    "x = np.array([1, 2, 3, 4, 5])\n",
    "print(x[0]) # accès au premier élément\n",
    "print(x[-1]) # accès au dernier élément\n",
    "print(x[1:5]) # accès aux éléments de l'indice 1 à l'indice 4 (non inclus)\n"
   ]
  },
  {
   "cell_type": "code",
   "execution_count": 52,
   "id": "31c07495",
   "metadata": {},
   "outputs": [],
   "source": [
    "# Fonctions mathématiques sur les tableaux numpy "
   ]
  },
  {
   "cell_type": "code",
   "execution_count": 53,
   "id": "f1fa240c",
   "metadata": {},
   "outputs": [
    {
     "name": "stdout",
     "output_type": "stream",
     "text": [
      "3.3333333333333335\n",
      "2.0548046676563256\n"
     ]
    }
   ],
   "source": [
    "import numpy as np\n",
    "\n",
    "x = np.array([1, 6, 3])\n",
    "print(np.mean(x)) # calcul de la moyenne\n",
    "print(np.std(x)) # calcul de l'écart-type\n"
   ]
  },
  {
   "cell_type": "code",
   "execution_count": 54,
   "id": "ba15f317",
   "metadata": {},
   "outputs": [],
   "source": [
    "# Moyenne "
   ]
  },
  {
   "cell_type": "code",
   "execution_count": 55,
   "id": "f8757591",
   "metadata": {},
   "outputs": [],
   "source": [
    "# Médiane"
   ]
  },
  {
   "cell_type": "code",
   "execution_count": 56,
   "id": "18855a35",
   "metadata": {},
   "outputs": [
    {
     "name": "stdout",
     "output_type": "stream",
     "text": [
      "Médiane:Me =  3.0\n"
     ]
    }
   ],
   "source": [
    "import numpy as np\n",
    "\n",
    "array = np.array([1, 2, 3, 4, 5])\n",
    "median = np.median(array)\n",
    "\n",
    "print(\"Médiane:Me = \", median)\n"
   ]
  },
  {
   "cell_type": "code",
   "execution_count": 57,
   "id": "e2972a34",
   "metadata": {},
   "outputs": [
    {
     "name": "stdout",
     "output_type": "stream",
     "text": [
      "Médiane est : Me =  3.0\n"
     ]
    }
   ],
   "source": [
    "import numpy as np\n",
    "\n",
    "array = np.array([1, 2, 3, 4, 5])\n",
    "median = np.median(array)\n",
    "\n",
    "print(\"Médiane est : Me = \", median)"
   ]
  },
  {
   "cell_type": "code",
   "execution_count": 58,
   "id": "b96d4017",
   "metadata": {},
   "outputs": [],
   "source": [
    "# Écart-type"
   ]
  },
  {
   "cell_type": "code",
   "execution_count": 59,
   "id": "9eceb7cf",
   "metadata": {},
   "outputs": [
    {
     "name": "stdout",
     "output_type": "stream",
     "text": [
      "Écart-type est :  1.4142135623730951\n"
     ]
    }
   ],
   "source": [
    "import numpy as np\n",
    "\n",
    "array = np.array([1, 2, 3, 4, 5])\n",
    "ecart_type = np.std(array)\n",
    "\n",
    "print(\"Écart-type est : \", ecart_type)\n"
   ]
  },
  {
   "cell_type": "code",
   "execution_count": 60,
   "id": "15034198",
   "metadata": {},
   "outputs": [],
   "source": [
    "# Variance "
   ]
  },
  {
   "cell_type": "code",
   "execution_count": 61,
   "id": "998da8a3",
   "metadata": {},
   "outputs": [
    {
     "name": "stdout",
     "output_type": "stream",
     "text": [
      "Variance est :  2.0\n"
     ]
    }
   ],
   "source": [
    "import numpy as np\n",
    "\n",
    "array = np.array([1, 2, 3, 4, 5])\n",
    "variance = np.var(array)\n",
    "\n",
    "print(\"Variance est : \", variance)\n"
   ]
  },
  {
   "cell_type": "code",
   "execution_count": 63,
   "id": "2f7798dd",
   "metadata": {},
   "outputs": [],
   "source": [
    "# Addition de deux matrices"
   ]
  },
  {
   "cell_type": "code",
   "execution_count": 64,
   "id": "dc4b0dc1",
   "metadata": {},
   "outputs": [
    {
     "name": "stdout",
     "output_type": "stream",
     "text": [
      "[[0.6247477  0.8295561  1.27115816]\n",
      " [0.15336939 0.29738603 0.8123383 ]\n",
      " [1.2456384  1.70230205 1.48953837]]\n"
     ]
    }
   ],
   "source": [
    "import numpy as np\n",
    "\n",
    "# deux matrices aléatoires\n",
    "x = np.random.rand(3, 3)\n",
    "y = np.random.rand(3, 3)\n",
    "\n",
    "# addition de deux matrices\n",
    "z = x + y\n",
    "\n",
    "print(z)\n"
   ]
  },
  {
   "cell_type": "code",
   "execution_count": 65,
   "id": "f6319568",
   "metadata": {},
   "outputs": [],
   "source": [
    "# Multiplication de deux matrices "
   ]
  },
  {
   "cell_type": "code",
   "execution_count": 66,
   "id": "582e9abc",
   "metadata": {},
   "outputs": [
    {
     "name": "stdout",
     "output_type": "stream",
     "text": [
      "[[1.19747204 0.47175178 0.47840228]\n",
      " [0.73878886 0.24374819 0.30743349]\n",
      " [1.15037036 0.76279653 0.34356674]]\n"
     ]
    }
   ],
   "source": [
    "import numpy as np\n",
    "\n",
    "# deux matrices aléatoires\n",
    "x = np.random.rand(3, 3)\n",
    "y = np.random.rand(3, 3)\n",
    "\n",
    "\n",
    "# multiplication de deux matrices\n",
    "z = np.dot(x, y)\n",
    "\n",
    "print(z)\n"
   ]
  },
  {
   "cell_type": "code",
   "execution_count": 67,
   "id": "3df459f4",
   "metadata": {},
   "outputs": [],
   "source": [
    "# Calcul de l'inverse d'une matrice "
   ]
  },
  {
   "cell_type": "code",
   "execution_count": 68,
   "id": "c6b8b30b",
   "metadata": {},
   "outputs": [
    {
     "name": "stdout",
     "output_type": "stream",
     "text": [
      "[8. 7. 4.]\n"
     ]
    }
   ],
   "source": [
    "import numpy as np\n",
    "\n",
    "# une matrice aléatoire\n",
    "x = np.random.rand(2, 2)\n",
    "\n",
    "# calcul de l'inverse d'une matrice\n",
    "y = np.linalg.inv(x)\n",
    "\n",
    "print(b)\n"
   ]
  },
  {
   "cell_type": "code",
   "execution_count": 69,
   "id": "35062409",
   "metadata": {},
   "outputs": [],
   "source": [
    "# Filtrage basique avec numpy.where() :\n"
   ]
  },
  {
   "cell_type": "code",
   "execution_count": 70,
   "id": "e907e2c9",
   "metadata": {},
   "outputs": [
    {
     "ename": "NameError",
     "evalue": "name 'arr' is not defined",
     "output_type": "error",
     "traceback": [
      "\u001b[1;31m---------------------------------------------------------------------------\u001b[0m",
      "\u001b[1;31mNameError\u001b[0m                                 Traceback (most recent call last)",
      "Cell \u001b[1;32mIn[70], line 7\u001b[0m\n\u001b[0;32m      4\u001b[0m array \u001b[38;5;241m=\u001b[39m np\u001b[38;5;241m.\u001b[39mrandom\u001b[38;5;241m.\u001b[39mrand(\u001b[38;5;241m5\u001b[39m, \u001b[38;5;241m5\u001b[39m)\n\u001b[0;32m      6\u001b[0m \u001b[38;5;66;03m# Filtrer les éléments supérieurs à 0.5\u001b[39;00m\n\u001b[1;32m----> 7\u001b[0m filtred_array \u001b[38;5;241m=\u001b[39m np\u001b[38;5;241m.\u001b[39mwhere(array \u001b[38;5;241m>\u001b[39m \u001b[38;5;241m0.5\u001b[39m, \u001b[43marr\u001b[49m, \u001b[38;5;241m0\u001b[39m)\n\u001b[0;32m      9\u001b[0m \u001b[38;5;28mprint\u001b[39m(filtred_array)\n",
      "\u001b[1;31mNameError\u001b[0m: name 'arr' is not defined"
     ]
    }
   ],
   "source": [
    "import numpy as np\n",
    "\n",
    "# Créer un tableau NumPy aléatoire\n",
    "array = np.random.rand(5, 5)\n",
    "\n",
    "# Filtrer les éléments supérieurs à 0.5\n",
    "filtred_array = np.where(array > 0.5, arr, 0)\n",
    "\n",
    "print(filtred_array)\n"
   ]
  },
  {
   "cell_type": "code",
   "execution_count": 71,
   "id": "d1e7c9d9",
   "metadata": {},
   "outputs": [
    {
     "name": "stdout",
     "output_type": "stream",
     "text": [
      "[[0.77955337 0.         0.94656439 0.         0.        ]\n",
      " [0.84314248 0.         0.         0.57125914 0.        ]\n",
      " [0.58759183 0.         0.58921935 0.         0.        ]\n",
      " [0.         0.84720949 0.         0.534628   0.        ]\n",
      " [0.7623776  0.         0.85819061 0.77561547 0.76357509]]\n"
     ]
    }
   ],
   "source": [
    "import numpy as np\n",
    "\n",
    "# Créer un tableau NumPy aléatoire\n",
    "arr = np.random.rand(5, 5)\n",
    "\n",
    "# Filtrer les éléments supérieurs à 0.5\n",
    "filtred_arr = np.where(arr > 0.5, arr, 0)\n",
    "\n",
    "print(filtred_arr)\n"
   ]
  },
  {
   "cell_type": "code",
   "execution_count": 72,
   "id": "46b53feb",
   "metadata": {},
   "outputs": [],
   "source": [
    "# Filtrage avec numpy.logical_and() et numpy.logical_or()"
   ]
  },
  {
   "cell_type": "code",
   "execution_count": 73,
   "id": "a7bb0f1a",
   "metadata": {},
   "outputs": [
    {
     "name": "stdout",
     "output_type": "stream",
     "text": [
      "[[0.73590043 0.         0.53249924 0.         0.        ]\n",
      " [0.21087625 0.         0.37932256 0.3976383  0.55375648]\n",
      " [0.5499532  0.         0.         0.         0.        ]\n",
      " [0.         0.51066709 0.27258579 0.28039089 0.        ]\n",
      " [0.         0.         0.         0.37698923 0.        ]]\n"
     ]
    }
   ],
   "source": [
    "import numpy as np\n",
    "\n",
    "# Créer un tableau NumPy aléatoire\n",
    "array = np.random.rand(5, 5)\n",
    "\n",
    "# Filtrer les éléments entre 0.2 et 0.8\n",
    "filtred_array = np.where(np.logical_and(array > 0.2, array < 0.8), array, 0)\n",
    "\n",
    "print(filtred_array)\n"
   ]
  },
  {
   "cell_type": "code",
   "execution_count": 74,
   "id": "2957a415",
   "metadata": {},
   "outputs": [],
   "source": [
    "# Filtrage avec numpy.ma.masked_where() "
   ]
  },
  {
   "cell_type": "code",
   "execution_count": 75,
   "id": "cd3b394a",
   "metadata": {},
   "outputs": [
    {
     "name": "stdout",
     "output_type": "stream",
     "text": [
      "[[0.7795533680609955 -- 0.9465643910250024 -- 0.03448911294942025]\n",
      " [-- -- -- 0.5712591402262609 --]\n",
      " [-- 0.34867111909874937 0.5892193527458839 -- 0.1784374531048113]\n",
      " [0.2768372023573249 0.8472094875266185 0.11218615201208126\n",
      "  0.5346280048292184 --]\n",
      " [0.7623776009764504 -- -- 0.7756154733016262 --]]\n"
     ]
    }
   ],
   "source": [
    "import numpy as np\n",
    "\n",
    "# Créer un tableau NumPy aléatoire\n",
    "array = np.random.rand(5, 5)\n",
    "\n",
    "# Créer un masque pour filtrer les éléments inférieurs à 0.5\n",
    "masked = np.ma.masked_where(array < 0.5, arr)\n",
    "\n",
    "print(masked)\n"
   ]
  },
  {
   "cell_type": "code",
   "execution_count": 76,
   "id": "c4dd1166",
   "metadata": {},
   "outputs": [],
   "source": [
    " # la racine carrée de x"
   ]
  },
  {
   "cell_type": "code",
   "execution_count": 77,
   "id": "ebf89137",
   "metadata": {},
   "outputs": [
    {
     "ename": "NameError",
     "evalue": "name 'math' is not defined",
     "output_type": "error",
     "traceback": [
      "\u001b[1;31m---------------------------------------------------------------------------\u001b[0m",
      "\u001b[1;31mNameError\u001b[0m                                 Traceback (most recent call last)",
      "Cell \u001b[1;32mIn[77], line 2\u001b[0m\n\u001b[0;32m      1\u001b[0m \u001b[38;5;28;01mimport\u001b[39;00m \u001b[38;5;21;01mmath\u001b[39;00m \u001b[38;5;28;01mas\u001b[39;00m \u001b[38;5;21;01mm\u001b[39;00m\n\u001b[1;32m----> 2\u001b[0m \u001b[38;5;28mprint\u001b[39m(\u001b[43mmath\u001b[49m\u001b[38;5;241m.\u001b[39msqrt(\u001b[38;5;241m49\u001b[39m))\n",
      "\u001b[1;31mNameError\u001b[0m: name 'math' is not defined"
     ]
    }
   ],
   "source": [
    "import math as m\n",
    "print(math.sqrt(49)) # afficher 7.0"
   ]
  },
  {
   "cell_type": "code",
   "execution_count": 78,
   "id": "694a0a29",
   "metadata": {},
   "outputs": [
    {
     "name": "stdout",
     "output_type": "stream",
     "text": [
      "7.0\n"
     ]
    }
   ],
   "source": [
    "import math as m\n",
    "print(m.sqrt(49)) # afficher 7.0"
   ]
  },
  {
   "cell_type": "markdown",
   "id": "746cac4d",
   "metadata": {},
   "source": []
  },
  {
   "cell_type": "code",
   "execution_count": 79,
   "id": "e13241b3",
   "metadata": {},
   "outputs": [
    {
     "name": "stdout",
     "output_type": "stream",
     "text": [
      "9.0\n"
     ]
    }
   ],
   "source": [
    "import math as m\n",
    "print(m.pow(3, 2)) # afficher 9.0"
   ]
  },
  {
   "cell_type": "markdown",
   "id": "3ff9d7ef",
   "metadata": {},
   "source": []
  },
  {
   "cell_type": "code",
   "execution_count": 82,
   "id": "8f8d7c75",
   "metadata": {},
   "outputs": [
    {
     "name": "stdout",
     "output_type": "stream",
     "text": [
      "3\n"
     ]
    }
   ],
   "source": [
    "import math as m\n",
    "print(m.floor(3.2)) # afficher 3.0"
   ]
  },
  {
   "cell_type": "markdown",
   "id": "36eacbd0",
   "metadata": {},
   "source": []
  },
  {
   "cell_type": "code",
   "execution_count": 83,
   "id": "24ce6413",
   "metadata": {},
   "outputs": [
    {
     "name": "stdout",
     "output_type": "stream",
     "text": [
      "4\n"
     ]
    }
   ],
   "source": [
    "import math as m\n",
    "print(m.ceil(3.2)) # afficher 4.0"
   ]
  },
  {
   "cell_type": "markdown",
   "id": "c4604f4b",
   "metadata": {},
   "source": []
  },
  {
   "cell_type": "code",
   "execution_count": 85,
   "id": "d426bd34",
   "metadata": {},
   "outputs": [
    {
     "name": "stdout",
     "output_type": "stream",
     "text": [
      "-1.0\n"
     ]
    }
   ],
   "source": [
    "import math as m\n",
    "print(m.cos(m.pi)) # afficher -1.0\n"
   ]
  },
  {
   "cell_type": "code",
   "execution_count": null,
   "id": "a125148c",
   "metadata": {},
   "outputs": [],
   "source": []
  }
 ],
 "metadata": {
  "kernelspec": {
   "display_name": "Python 3 (ipykernel)",
   "language": "python",
   "name": "python3"
  },
  "language_info": {
   "codemirror_mode": {
    "name": "ipython",
    "version": 3
   },
   "file_extension": ".py",
   "mimetype": "text/x-python",
   "name": "python",
   "nbconvert_exporter": "python",
   "pygments_lexer": "ipython3",
   "version": "3.10.9"
  }
 },
 "nbformat": 4,
 "nbformat_minor": 5
}
