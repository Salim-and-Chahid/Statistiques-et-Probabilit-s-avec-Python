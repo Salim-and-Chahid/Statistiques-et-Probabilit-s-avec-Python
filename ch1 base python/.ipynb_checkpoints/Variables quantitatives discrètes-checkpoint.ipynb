{
 "cells": [
  {
   "cell_type": "code",
   "execution_count": 4,
   "id": "f5d7cefe",
   "metadata": {},
   "outputs": [
    {
     "name": "stdout",
     "output_type": "stream",
     "text": [
      "L'effectif total est N =  50\n"
     ]
    }
   ],
   "source": [
    "data = [1, 1, 1, 1, 1, 2, 2, 2, 2, 2, 2, 2, 2, 2, 3, 3, 3 ,3 ,3 ,3 ,3 ,3 ,3 ,3, 3,\n",
    "3, 3, 3, 3, 4, 4, 4, 4, 4, 4, 4, 4, 4, 4, 5, 5, 5, 5, 5, 5, 6, 6, 6, 8, 8]\n",
    "N = len(data)\n",
    "\n",
    "print(\"L'effectif total est N = \",N) # afficher L'effectif total est N = 50\n"
   ]
  },
  {
   "cell_type": "code",
   "execution_count": 5,
   "id": "d1d795f7",
   "metadata": {},
   "outputs": [
    {
     "name": "stdout",
     "output_type": "stream",
     "text": [
      "Le mode de l'ensemble de données est: 6\n"
     ]
    }
   ],
   "source": [
    "import statistics as stat\n",
    "data = [1, 2, 3, 3, 4, 5, 5, 5, 6, 6, 6, 6]\n",
    "print(\"Le mode de l'ensemble de données est:\", stat.mode(data)) # afficher Le mode de l'ensemble de données est : 6"
   ]
  },
  {
   "cell_type": "code",
   "execution_count": 6,
   "id": "5911df80",
   "metadata": {},
   "outputs": [
    {
     "name": "stdout",
     "output_type": "stream",
     "text": [
      "La médiane  de l'ensemble de données est :  5.0\n"
     ]
    }
   ],
   "source": [
    "import statistics as stat\n",
    "data = [1, 2, 3, 3, 4, 5, 5, 5, 6, 6, 6, 6]\n",
    "print(\"La médiane  de l'ensemble de données est : \", stat.median(data)) # afficher Le mode de l'ensemble de données est : 5"
   ]
  },
  {
   "cell_type": "code",
   "execution_count": 8,
   "id": "56e48df7",
   "metadata": {},
   "outputs": [
    {
     "name": "stdout",
     "output_type": "stream",
     "text": [
      "Premier quartile Q1 =  3.0\n",
      "Troisième quartile Q3 =  6.0\n"
     ]
    }
   ],
   "source": [
    "import numpy as np\n",
    "data = [1, 2, 3, 3, 4, 5, 5, 5, 6, 6, 6, 6]\n",
    "q1, q3 = np.quantile(data, [0.25, 0.75])\n",
    "print(\"Premier quartile Q1 = \", q1) # afficher Premier quartile Q1 = 3\"\n",
    "print(\"Troisième quartile Q3 = \", q3) # afficher Troisième quartile Q3 = 6 \"\n"
   ]
  },
  {
   "cell_type": "code",
   "execution_count": 11,
   "id": "c8b529ff",
   "metadata": {},
   "outputs": [
    {
     "name": "stdout",
     "output_type": "stream",
     "text": [
      "V(X) =  2.722222222222222\n"
     ]
    }
   ],
   "source": [
    "import numpy as np\n",
    "\n",
    "data = [1, 2, 3, 3, 4, 5, 5, 5, 6, 6, 6, 6]\n",
    "\n",
    "var = np.var(data)\n",
    "\n",
    "print(\"V(X) = \",var) # afficher V(X) = 2.722222222222222\n"
   ]
  },
  {
   "cell_type": "code",
   "execution_count": 12,
   "id": "768ccf7d",
   "metadata": {},
   "outputs": [
    {
     "name": "stdout",
     "output_type": "stream",
     "text": [
      "L'écart-type est :  1.6499158227686108\n"
     ]
    }
   ],
   "source": [
    "import numpy as np\n",
    "\n",
    "data = [1, 2, 3, 3, 4, 5, 5, 5, 6, 6, 6, 6]\n",
    "sigma = np.std(data, ddof=0)\n",
    "\n",
    "print(\"L'écart-type est : \",sigma) # afficher L'écart-type est :  1.6499158227686108\n"
   ]
  },
  {
   "cell_type": "code",
   "execution_count": 13,
   "id": "3eb59ca7",
   "metadata": {},
   "outputs": [
    {
     "name": "stdout",
     "output_type": "stream",
     "text": [
      "Coefficient de variation Cv(X) = 0.38%\n"
     ]
    }
   ],
   "source": [
    "import numpy as np\n",
    "\n",
    "# Définir un tableau de données\n",
    "data = [1, 2, 3, 3, 4, 5, 5, 5, 6, 6, 6, 6]\n",
    "\n",
    "# Calculer l'écart-type et la moyenne\n",
    "sigma = np.std(data)\n",
    "moyenne = np.mean(data)\n",
    "\n",
    "# Calculer le coefficient de variation\n",
    "cv = sigma / moyenne\n",
    "\n",
    "print(\"Coefficient de variation Cv(X) = {:.2f}%\".format(cv)) # afficher Coefficient de variation Cv(X) = 0.38\n"
   ]
  },
  {
   "cell_type": "code",
   "execution_count": null,
   "id": "b1d8f7c2",
   "metadata": {},
   "outputs": [],
   "source": [
    "import matplotlib.pyplot as plt\n",
    "\n",
    "xi = [1, 2, 3, 3, 4, 5, 5, 5, 6, 6, 6, 6]\n",
    "ni = [1, 1, 2, , 9]\n",
    "\n",
    "plt.bar(categories, valeurs)\n",
    "plt.title('Exemple de diagramme en bâtons')\n",
    "plt.xlabel('Catégories')\n",
    "plt.ylabel('Valeurs')\n",
    "plt.show()\n"
   ]
  }
 ],
 "metadata": {
  "kernelspec": {
   "display_name": "Python 3 (ipykernel)",
   "language": "python",
   "name": "python3"
  },
  "language_info": {
   "codemirror_mode": {
    "name": "ipython",
    "version": 3
   },
   "file_extension": ".py",
   "mimetype": "text/x-python",
   "name": "python",
   "nbconvert_exporter": "python",
   "pygments_lexer": "ipython3",
   "version": "3.10.11"
  }
 },
 "nbformat": 4,
 "nbformat_minor": 5
}
