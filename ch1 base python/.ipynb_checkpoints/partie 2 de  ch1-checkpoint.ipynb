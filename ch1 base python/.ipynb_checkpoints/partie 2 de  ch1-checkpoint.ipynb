{
 "cells": [
  {
   "cell_type": "markdown",
   "id": "f9bf1da8",
   "metadata": {},
   "source": [
    "# x à la puissance y"
   ]
  },
  {
   "cell_type": "code",
   "execution_count": 1,
   "id": "62ef8ae3",
   "metadata": {},
   "outputs": [
    {
     "name": "stdout",
     "output_type": "stream",
     "text": [
      "9.0\n"
     ]
    }
   ],
   "source": [
    "import math as m\n",
    "print(m.pow(3, 2)) # afficher 9.0"
   ]
  },
  {
   "cell_type": "markdown",
   "id": "8b3ce88b",
   "metadata": {},
   "source": [
    "# la racine carrée de x"
   ]
  },
  {
   "cell_type": "code",
   "execution_count": 3,
   "id": "cb15245e",
   "metadata": {},
   "outputs": [
    {
     "name": "stdout",
     "output_type": "stream",
     "text": [
      "7.0\n"
     ]
    }
   ],
   "source": [
    "import math as m\n",
    "print(m.sqrt(49)) # afficher 7.0"
   ]
  },
  {
   "cell_type": "markdown",
   "id": "4be3db6c",
   "metadata": {},
   "source": [
    "# plus grande valeur entière inférieure ou égale à x.¶"
   ]
  },
  {
   "cell_type": "code",
   "execution_count": 4,
   "id": "e755a0c1",
   "metadata": {},
   "outputs": [
    {
     "name": "stdout",
     "output_type": "stream",
     "text": [
      "3\n"
     ]
    }
   ],
   "source": [
    "import math as m\n",
    "print(m.floor(3.2)) # afficher 3.0"
   ]
  },
  {
   "cell_type": "code",
   "execution_count": null,
   "id": "6a45cf41",
   "metadata": {},
   "outputs": [],
   "source": []
  }
 ],
 "metadata": {
  "kernelspec": {
   "display_name": "Python 3 (ipykernel)",
   "language": "python",
   "name": "python3"
  },
  "language_info": {
   "codemirror_mode": {
    "name": "ipython",
    "version": 3
   },
   "file_extension": ".py",
   "mimetype": "text/x-python",
   "name": "python",
   "nbconvert_exporter": "python",
   "pygments_lexer": "ipython3",
   "version": "3.10.11"
  }
 },
 "nbformat": 4,
 "nbformat_minor": 5
}
