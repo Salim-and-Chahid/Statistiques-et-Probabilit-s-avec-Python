{
 "cells": [
  {
   "cell_type": "code",
   "execution_count": 1,
   "id": "1833b359",
   "metadata": {},
   "outputs": [
    {
     "name": "stdout",
     "output_type": "stream",
     "text": [
      "Hello World !\n"
     ]
    }
   ],
   "source": [
    "print(\"Hello World !\")"
   ]
  },
  {
   "cell_type": "code",
   "execution_count": 2,
   "id": "5d48e234",
   "metadata": {},
   "outputs": [
    {
     "name": "stdout",
     "output_type": "stream",
     "text": [
      "Entrez votre NOM : salim\n"
     ]
    }
   ],
   "source": [
    "Nom = input(\"Entrez votre NOM : \")"
   ]
  },
  {
   "cell_type": "code",
   "execution_count": 3,
   "id": "cc38e487",
   "metadata": {},
   "outputs": [
    {
     "name": "stdout",
     "output_type": "stream",
     "text": [
      "Entrez votre âge : 12\n",
      "Entrez votre poids : 77.5\n"
     ]
    }
   ],
   "source": [
    "age = int(input(\"Entrez votre âge : \"))\n",
    "poids = float(input(\"Entrez votre poids : \"))"
   ]
  },
  {
   "cell_type": "code",
   "execution_count": 4,
   "id": "0ceb6209",
   "metadata": {},
   "outputs": [],
   "source": [
    "nom = \"azghay\"\n",
    "age = 21\n",
    "poids = 75.5\n",
    "valider = True"
   ]
  },
  {
   "cell_type": "code",
   "execution_count": 5,
   "id": "44b25b30",
   "metadata": {},
   "outputs": [],
   "source": [
    "age = 25   # mise à jour de la valeur de la variable \"âge\""
   ]
  },
  {
   "cell_type": "code",
   "execution_count": 6,
   "id": "691a5ebb",
   "metadata": {},
   "outputs": [],
   "source": [
    "nom_liste = [1, 2, 3, 4]"
   ]
  },
  {
   "cell_type": "code",
   "execution_count": 7,
   "id": "d0e4d946",
   "metadata": {},
   "outputs": [],
   "source": [
    "nom_liste = []"
   ]
  },
  {
   "cell_type": "code",
   "execution_count": 8,
   "id": "84d3c721",
   "metadata": {},
   "outputs": [
    {
     "name": "stdout",
     "output_type": "stream",
     "text": [
      "[1, 2, 3, 4]\n"
     ]
    }
   ],
   "source": [
    "nom_liste = [1, 2, 3, 4]\n",
    "print(nom_liste)# afficher tous les éléments de la liste"
   ]
  },
  {
   "cell_type": "code",
   "execution_count": 9,
   "id": "d4b383cf",
   "metadata": {},
   "outputs": [
    {
     "name": "stdout",
     "output_type": "stream",
     "text": [
      "1\n",
      "3\n"
     ]
    }
   ],
   "source": [
    "print(nom_liste[0]) # afficher 1\n",
    "print(nom_liste[2]) # afficher 3"
   ]
  },
  {
   "cell_type": "code",
   "execution_count": 10,
   "id": "9cdd72fd",
   "metadata": {},
   "outputs": [
    {
     "name": "stdout",
     "output_type": "stream",
     "text": [
      "4\n",
      "2\n"
     ]
    }
   ],
   "source": [
    "print(nom_liste[-1]) # afficher 4\n",
    "print(nom_liste[-3]) # afficher 2"
   ]
  },
  {
   "cell_type": "code",
   "execution_count": 11,
   "id": "6a9aa1b3",
   "metadata": {},
   "outputs": [
    {
     "name": "stdout",
     "output_type": "stream",
     "text": [
      "[5, 2, 3, 4]\n"
     ]
    }
   ],
   "source": [
    "nom_liste[0] = 5 # modifies l’élément de l’index 0\n",
    "print(nom_liste) # afficher [5,2,3,4]"
   ]
  },
  {
   "cell_type": "code",
   "execution_count": 12,
   "id": "1416aaa7",
   "metadata": {},
   "outputs": [
    {
     "name": "stdout",
     "output_type": "stream",
     "text": [
      "[1, 2, 3, 4, 11]\n"
     ]
    }
   ],
   "source": [
    "nom_liste = [1, 2, 3, 4]\n",
    "nom_liste.append(11)\n",
    "print(nom_liste) # afficher [1,2,3,4,11]"
   ]
  },
  {
   "cell_type": "code",
   "execution_count": 13,
   "id": "a9c6c7a5",
   "metadata": {},
   "outputs": [
    {
     "ename": "AttributeError",
     "evalue": "'list' object has no attribute 'inssert'",
     "output_type": "error",
     "traceback": [
      "\u001b[1;31m---------------------------------------------------------------------------\u001b[0m",
      "\u001b[1;31mAttributeError\u001b[0m                            Traceback (most recent call last)",
      "Cell \u001b[1;32mIn[13], line 2\u001b[0m\n\u001b[0;32m      1\u001b[0m nom_liste \u001b[38;5;241m=\u001b[39m [\u001b[38;5;241m1\u001b[39m, \u001b[38;5;241m2\u001b[39m, \u001b[38;5;241m3\u001b[39m, \u001b[38;5;241m4\u001b[39m]\n\u001b[1;32m----> 2\u001b[0m \u001b[43mnom_liste\u001b[49m\u001b[38;5;241;43m.\u001b[39;49m\u001b[43minssert\u001b[49m(\u001b[38;5;241m2\u001b[39m,\u001b[38;5;241m11\u001b[39m)  \u001b[38;5;66;03m# ajouter au millier de la liste\u001b[39;00m\n\u001b[0;32m      3\u001b[0m \u001b[38;5;28mprint\u001b[39m(nom_liste) \u001b[38;5;66;03m# afficher [1,2,11,3,4]\u001b[39;00m\n\u001b[0;32m      4\u001b[0m nom_liste\u001b[38;5;241m.\u001b[39minssert(\u001b[38;5;241m0\u001b[39m,\u001b[38;5;241m0\u001b[39m)  \u001b[38;5;66;03m# ajouter au début de la liste\u001b[39;00m\n",
      "\u001b[1;31mAttributeError\u001b[0m: 'list' object has no attribute 'inssert'"
     ]
    }
   ],
   "source": [
    "nom_liste = [1, 2, 3, 4]\n",
    "nom_liste.inssert(2,11)  # ajouter au millier de la liste\n",
    "print(nom_liste) # afficher [1,2,11,3,4]\n",
    "nom_liste.inssert(0,0)  # ajouter au début de la liste\n",
    "print(nom_liste) # afficher [0,1,2,11,3,4]"
   ]
  },
  {
   "cell_type": "code",
   "execution_count": 14,
   "id": "6e6c2e15",
   "metadata": {},
   "outputs": [
    {
     "name": "stdout",
     "output_type": "stream",
     "text": [
      "[1, 2, 11, 3, 4]\n",
      "[0, 1, 2, 11, 3, 4]\n"
     ]
    }
   ],
   "source": [
    "nom_liste = [1, 2, 3, 4]\n",
    "nom_liste.insert(2,11)  # ajouter au millier de la liste\n",
    "print(nom_liste) # afficher [1,2,11,3,4]\n",
    "nom_liste.insert(0,0)  # ajouter au début de la liste\n",
    "print(nom_liste) # afficher [0,1,2,11,3,4]"
   ]
  },
  {
   "cell_type": "code",
   "execution_count": 15,
   "id": "8a2f6fb7",
   "metadata": {},
   "outputs": [
    {
     "name": "stdout",
     "output_type": "stream",
     "text": [
      "[1, 3, 4, 2]\n",
      "2\n",
      "[1, 3, 4]\n"
     ]
    }
   ],
   "source": [
    "nom_liste = [1,2,3,4,2]\n",
    "nom_liste.remove(2) # supprime la première élément égale 2\n",
    "print(nom_liste) # affiche [1,3,4,2]\n",
    "\n",
    "ele = nom_liste.pop() # supprime et retourne le dernier élément\n",
    "print(ele) # affiche 2\n",
    "print(nom_liste) # affiche [1,3,4]"
   ]
  },
  {
   "cell_type": "code",
   "execution_count": 16,
   "id": "8a0f921b",
   "metadata": {},
   "outputs": [],
   "source": [
    "liste = [1, 2, 3, 4, 5]"
   ]
  },
  {
   "cell_type": "code",
   "execution_count": 17,
   "id": "6e6b35ac",
   "metadata": {},
   "outputs": [
    {
     "name": "stdout",
     "output_type": "stream",
     "text": [
      "False\n"
     ]
    }
   ],
   "source": [
    "if 4 > 5:\n",
    "    print(\"True\")\n",
    "else:\n",
    "    print(\"False\")"
   ]
  },
  {
   "cell_type": "code",
   "execution_count": 18,
   "id": "0be1a083",
   "metadata": {},
   "outputs": [
    {
     "name": "stdout",
     "output_type": "stream",
     "text": [
      "CSS\n"
     ]
    }
   ],
   "source": [
    "if 4 > 5:\n",
    "    print(\"PHP\")\n",
    "elif 4 > 3:\n",
    "    print(\"CSS\")\n",
    "else:\n",
    "    print(\"JAVA\")"
   ]
  },
  {
   "cell_type": "code",
   "execution_count": 19,
   "id": "3222bb32",
   "metadata": {},
   "outputs": [
    {
     "ename": "SyntaxError",
     "evalue": "incomplete input (3900355771.py, line 2)",
     "output_type": "error",
     "traceback": [
      "\u001b[1;36m  Cell \u001b[1;32mIn[19], line 2\u001b[1;36m\u001b[0m\n\u001b[1;33m    while j < 5:\u001b[0m\n\u001b[1;37m                ^\u001b[0m\n\u001b[1;31mSyntaxError\u001b[0m\u001b[1;31m:\u001b[0m incomplete input\n"
     ]
    }
   ],
   "source": [
    "j = 0\n",
    "while j < 5:"
   ]
  },
  {
   "cell_type": "code",
   "execution_count": 20,
   "id": "4fd81f44",
   "metadata": {},
   "outputs": [
    {
     "name": "stdout",
     "output_type": "stream",
     "text": [
      "0 1 2 3 4 "
     ]
    }
   ],
   "source": [
    "j = 0\n",
    "while j < 5:\n",
    "    print(j,end=' ')\n",
    "    j += 1"
   ]
  },
  {
   "cell_type": "code",
   "execution_count": 21,
   "id": "751de826",
   "metadata": {},
   "outputs": [
    {
     "name": "stdout",
     "output_type": "stream",
     "text": [
      "ananas banane avocat cerise "
     ]
    }
   ],
   "source": [
    "fruits = [\"ananas\", \"banane\", \"avocat\", \"cerise\"]\n",
    "for fruit in fruits:\n",
    "    print(fruit , end=' ')"
   ]
  },
  {
   "cell_type": "code",
   "execution_count": 22,
   "id": "f1fda609",
   "metadata": {},
   "outputs": [
    {
     "name": "stdout",
     "output_type": "stream",
     "text": [
      "0 1 2 3 4 "
     ]
    }
   ],
   "source": [
    "for i in range(5):\n",
    "    print(i, end=' ')"
   ]
  },
  {
   "cell_type": "code",
   "execution_count": 1,
   "id": "a5de01cb",
   "metadata": {},
   "outputs": [
    {
     "name": "stdout",
     "output_type": "stream",
     "text": [
      "le max est :  3\n"
     ]
    }
   ],
   "source": [
    "a = 2\n",
    "b = 3\n",
    "if a > b:\n",
    "    print(\"le max est : \",a)\n",
    "else:\n",
    "    print(\"le max est : \",b)"
   ]
  },
  {
   "cell_type": "code",
   "execution_count": 2,
   "id": "dc1523ba",
   "metadata": {},
   "outputs": [
    {
     "name": "stdout",
     "output_type": "stream",
     "text": [
      "a est positive \n"
     ]
    }
   ],
   "source": [
    "a = 9\n",
    "if a < 0:\n",
    "    \n",
    "    print(\"a est negative \")\n",
    "elif a == 0:\n",
    "    print(\"a est null \")\n",
    "else:\n",
    "    print(\"a est positive \")"
   ]
  },
  {
   "cell_type": "code",
   "execution_count": null,
   "id": "a8b282ae",
   "metadata": {},
   "outputs": [],
   "source": []
  }
 ],
 "metadata": {
  "kernelspec": {
   "display_name": "Python 3 (ipykernel)",
   "language": "python",
   "name": "python3"
  },
  "language_info": {
   "codemirror_mode": {
    "name": "ipython",
    "version": 3
   },
   "file_extension": ".py",
   "mimetype": "text/x-python",
   "name": "python",
   "nbconvert_exporter": "python",
   "pygments_lexer": "ipython3",
   "version": "3.10.11"
  }
 },
 "nbformat": 4,
 "nbformat_minor": 5
}
