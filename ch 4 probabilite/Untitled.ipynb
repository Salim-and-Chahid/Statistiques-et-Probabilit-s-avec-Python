{
 "cells": [
  {
   "cell_type": "code",
   "execution_count": 1,
   "id": "4fc73d74",
   "metadata": {},
   "outputs": [
    {
     "name": "stdout",
     "output_type": "stream",
     "text": [
      "[1]\n",
      "Moyenne est : 1.0\n",
      "Variance est : 0.0\n"
     ]
    }
   ],
   "source": [
    "# Loi Bernoulli\n",
    "import numpy as np\n",
    "\n",
    "probabilite_succes = 0.3  # Probabilité de succès\n",
    "\n",
    "# Simuler la loi Bernoulli\n",
    "simulation = np.random.choice([0, 1], p=[probabilite_succes, 1 - probabilite_succes], size=1)\n",
    "print(simulation)\n",
    "\n",
    "# Calculer la moyenne et la variance des simulations\n",
    "E = np.mean(simulation)\n",
    "V = np.var(simulation)\n",
    "\n",
    "# Afficher les résultats\n",
    "print(\"Moyenne est :\", E)\n",
    "print(\"Variance est :\", V)"
   ]
  },
  {
   "cell_type": "code",
   "execution_count": 2,
   "id": "3f40a678",
   "metadata": {},
   "outputs": [
    {
     "name": "stdout",
     "output_type": "stream",
     "text": [
      "[1 1 0 0 0 0 0 0 1 1 1 1 1 0 1 1 1 1 0 0 0 0 0 1 1 1 0 1 1 0 1 0 0 1 1 1 1\n",
      " 1 1 0 1 0 1 1 1 1 0 1 0 0 0 0 1 0 1 0 0 0 0 0 1 0 0 0 0 1 0 0 0 1 1 1 1 1\n",
      " 1 1 1 1 1 0 1 1 1 1 1 0 0 0 1 1 0 0 1 1 1 0 0 0 1 1]\n",
      "Moyenne : 0.55\n",
      "Variance : 0.24750000000000003\n"
     ]
    }
   ],
   "source": [
    "# Loi de binomiale\n",
    "import numpy as np\n",
    "\n",
    "# Simuler la loi binomiale\n",
    "simulations = np.random.binomial(1, 0.5, 100)\n",
    "print(simulations)\n",
    "# Calculer la moyenne et la variance des simulations\n",
    "E = np.mean(simulations)\n",
    "V = np.var(simulations)\n",
    "\n",
    "# Afficher les résultats\n",
    "print(\"Moyenne :\", E)\n",
    "print(\"Variance :\", V)"
   ]
  },
  {
   "cell_type": "code",
   "execution_count": 3,
   "id": "8f209636",
   "metadata": {},
   "outputs": [
    {
     "name": "stdout",
     "output_type": "stream",
     "text": [
      "Moyenne : 3.283\n",
      "Variance : 7.439\n"
     ]
    }
   ],
   "source": [
    "# Loi Géométrique\n",
    "import numpy as np\n",
    "\n",
    "# Paramètre de probabilité de succès\n",
    "p = 0.3\n",
    "\n",
    "# Simuler un échantillon de taille 1000 selon la loi géométrique\n",
    "simulations = np.random.geometric(p, 1000)\n",
    "\n",
    "# Calculer la moyenne de l'échantillon\n",
    "E = np.mean(simulations)\n",
    "V = np.var(simulations)\n",
    "\n",
    "# Afficher la moyenne\n",
    "print(\"Moyenne :\", format(E, '.3f'))\n",
    "print(\"Variance :\", format(V, '.3f'))"
   ]
  },
  {
   "cell_type": "code",
   "execution_count": 4,
   "id": "f9e3eceb",
   "metadata": {},
   "outputs": [
    {
     "name": "stdout",
     "output_type": "stream",
     "text": [
      "Moyenne : 4.881\n",
      "Variance : 6.830\n"
     ]
    }
   ],
   "source": [
    "# Loi Uniforme\n",
    "import numpy as np\n",
    "\n",
    "# Paramètres de l'intervalle\n",
    "a = 0  # borne inférieure\n",
    "b = 10  # borne supérieure\n",
    "\n",
    "# Simuler un échantillon de taille 100 selon la loi uniforme\n",
    "simulations = np.random.uniform(a, b, 100)\n",
    "\n",
    "# Calculer la moyenne et la variance\n",
    "E = np.mean(simulations)\n",
    "V = np.var(simulations)\n",
    "\n",
    "# Afficher la moyenne\n",
    "print(\"Moyenne :\", format(E, '.3f'))\n",
    "print(\"Variance :\", format(V, '.3f'))"
   ]
  },
  {
   "cell_type": "code",
   "execution_count": null,
   "id": "85eb0d0e",
   "metadata": {},
   "outputs": [],
   "source": []
  }
 ],
 "metadata": {
  "kernelspec": {
   "display_name": "Python 3 (ipykernel)",
   "language": "python",
   "name": "python3"
  },
  "language_info": {
   "codemirror_mode": {
    "name": "ipython",
    "version": 3
   },
   "file_extension": ".py",
   "mimetype": "text/x-python",
   "name": "python",
   "nbconvert_exporter": "python",
   "pygments_lexer": "ipython3",
   "version": "3.10.9"
  }
 },
 "nbformat": 4,
 "nbformat_minor": 5
}
