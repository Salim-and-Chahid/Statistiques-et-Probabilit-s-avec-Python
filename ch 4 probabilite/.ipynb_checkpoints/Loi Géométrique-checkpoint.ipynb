{
 "cells": [
  {
   "cell_type": "code",
   "execution_count": 1,
   "id": "1ed11190",
   "metadata": {},
   "outputs": [],
   "source": [
    "import numpy as np"
   ]
  },
  {
   "cell_type": "code",
   "execution_count": 2,
   "id": "178d979f",
   "metadata": {},
   "outputs": [],
   "source": [
    "# simuler une variable aléatoitre suivant une loi géométrique avec n essais et une probabilité de succès = p\n",
    "def geometrique(n, p):\n",
    "    successes = 0\n",
    "    trials = 0\n",
    "\n",
    "    while successes < n:\n",
    "        trials += 1\n",
    "        if np.random.random() < p:\n",
    "            successes += 1\n",
    "\n",
    "    return trials"
   ]
  },
  {
   "cell_type": "code",
   "execution_count": 3,
   "id": "8b99cda7",
   "metadata": {},
   "outputs": [
    {
     "name": "stdout",
     "output_type": "stream",
     "text": [
      "Nombre d'essais avant d'obtenir 10 succès : 12\n"
     ]
    }
   ],
   "source": [
    "# Simulation de la variable aléatoire\n",
    "result = geometrique(10, 0.7)\n",
    "print(\"Nombre d'essais avant d'obtenir\", 10, \"succès :\", result)"
   ]
  },
  {
   "cell_type": "code",
   "execution_count": 4,
   "id": "09ffbf4f",
   "metadata": {},
   "outputs": [
    {
     "name": "stdout",
     "output_type": "stream",
     "text": [
      "Nombre d'essais avant d'obtenir 20 succès : 24\n"
     ]
    }
   ],
   "source": [
    "result = geometrique(20, 0.7)\n",
    "print(\"Nombre d'essais avant d'obtenir\", 20, \"succès :\", result)"
   ]
  },
  {
   "cell_type": "code",
   "execution_count": 5,
   "id": "4d9f8c9e",
   "metadata": {},
   "outputs": [],
   "source": [
    "# Effectuer les simulations et enregistrer le nombre d'essais pour chaque simulation\n",
    "def simulations(n,p,num_simulation):\n",
    "    resultats = [] # création d'une liste vide\n",
    "    for _ in range(num_simulation):\n",
    "        resultats.append(geometrique(n,p)) # ajout des résultats de la fonction geometrique à la liste vide\n",
    "    return(resultats)  #cette fonction retourne une liste contenants les n simulations"
   ]
  },
  {
   "cell_type": "code",
   "execution_count": 6,
   "id": "4aa8a5c3",
   "metadata": {},
   "outputs": [
    {
     "data": {
      "text/plain": [
       "[13, 12, 12, 15, 14, 18, 15, 14, 18, 12]"
      ]
     },
     "execution_count": 6,
     "metadata": {},
     "output_type": "execute_result"
    }
   ],
   "source": [
    "simulations(10, 0.7,10)"
   ]
  },
  {
   "cell_type": "code",
   "execution_count": 7,
   "id": "8f571838",
   "metadata": {},
   "outputs": [
    {
     "data": {
      "text/plain": [
       "[19, 12, 15, 13, 11, 15, 14, 14, 12, 16, 17, 13, 14, 19, 14]"
      ]
     },
     "execution_count": 7,
     "metadata": {},
     "output_type": "execute_result"
    }
   ],
   "source": [
    "simulations(10, 0.7,15)"
   ]
  },
  {
   "cell_type": "code",
   "execution_count": 8,
   "id": "cb8b7229",
   "metadata": {},
   "outputs": [
    {
     "name": "stdout",
     "output_type": "stream",
     "text": [
      "\n",
      " Nombre moyen d'essais pour obtenir 10 succès après 100 simulations : 14.56\n"
     ]
    }
   ],
   "source": [
    "# Calculer le nombre moyen de succès après les simulations\n",
    "moyenne_succes = np.mean(simulations(10,0.7,100))\n",
    "\n",
    "# Afficher le résultat\n",
    "print(\"\\n Nombre moyen d'essais pour obtenir\", 10, \"succès après\", 100, \"simulations :\", moyenne_succes)"
   ]
  },
  {
   "cell_type": "code",
   "execution_count": 9,
   "id": "dfb019df",
   "metadata": {},
   "outputs": [
    {
     "name": "stdout",
     "output_type": "stream",
     "text": [
      "\n",
      " Nombre moyen d'essais pour obtenir 10 succès après 1000 simulations : 14.296\n"
     ]
    }
   ],
   "source": [
    "# Calculer le nombre moyen de succès après les simulations\n",
    "moyenne_succes = np.mean(simulations(10,0.7,1000))\n",
    "\n",
    "# Afficher le résultat\n",
    "print(\"\\n Nombre moyen d'essais pour obtenir\", 10, \"succès après\", 1000 , \"simulations :\", moyenne_succes)"
   ]
  },
  {
   "cell_type": "code",
   "execution_count": null,
   "id": "bd463cdb",
   "metadata": {},
   "outputs": [],
   "source": []
  }
 ],
 "metadata": {
  "kernelspec": {
   "display_name": "Python 3 (ipykernel)",
   "language": "python",
   "name": "python3"
  },
  "language_info": {
   "codemirror_mode": {
    "name": "ipython",
    "version": 3
   },
   "file_extension": ".py",
   "mimetype": "text/x-python",
   "name": "python",
   "nbconvert_exporter": "python",
   "pygments_lexer": "ipython3",
   "version": "3.10.9"
  }
 },
 "nbformat": 4,
 "nbformat_minor": 5
}
