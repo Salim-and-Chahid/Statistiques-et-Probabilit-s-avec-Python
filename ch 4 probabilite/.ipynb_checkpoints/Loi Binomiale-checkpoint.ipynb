{
 "cells": [
  {
   "cell_type": "code",
   "execution_count": 1,
   "id": "37dfad78",
   "metadata": {},
   "outputs": [],
   "source": [
    "import random"
   ]
  },
  {
   "cell_type": "code",
   "execution_count": 2,
   "id": "67ec05ee",
   "metadata": {},
   "outputs": [],
   "source": [
    "# simuler une variable aléatoitre suivant une loi Binomiale avec n essais et une probabilité de succès = p\n",
    "def  binomiale(n,p):\n",
    "    succes = 0\n",
    "    for _ in range(n):\n",
    "        if random.random()<p:\n",
    "            succes +=1\n",
    "    return succes        "
   ]
  },
  {
   "cell_type": "code",
   "execution_count": 3,
   "id": "449cbd9e",
   "metadata": {},
   "outputs": [
    {
     "data": {
      "text/plain": [
       "15"
      ]
     },
     "execution_count": 3,
     "metadata": {},
     "output_type": "execute_result"
    }
   ],
   "source": [
    "binomiale(20,0.7)"
   ]
  },
  {
   "cell_type": "code",
   "execution_count": 4,
   "id": "1171c677",
   "metadata": {},
   "outputs": [
    {
     "data": {
      "text/plain": [
       "16"
      ]
     },
     "execution_count": 4,
     "metadata": {},
     "output_type": "execute_result"
    }
   ],
   "source": [
    "binomiale(20,0.7)"
   ]
  },
  {
   "cell_type": "code",
   "execution_count": 5,
   "id": "197a2795",
   "metadata": {},
   "outputs": [],
   "source": [
    "# nombre de simulation = n\n",
    "def simulations(n,p):\n",
    "    resultats = [] # création d'une liste vide\n",
    "    for _ in range(n):\n",
    "        resultats.append(binomiale(n,p)) # ajout des résultats de la fonction binomiale à la liste vide\n",
    "    return(resultats)  #cette fonction retourne une liste contenants les n simulations"
   ]
  },
  {
   "cell_type": "code",
   "execution_count": 6,
   "id": "3842c985",
   "metadata": {},
   "outputs": [
    {
     "data": {
      "text/plain": [
       "[9, 13, 8, 12, 9, 12, 11, 13, 12, 11, 11, 8, 10, 13, 10]"
      ]
     },
     "execution_count": 6,
     "metadata": {},
     "output_type": "execute_result"
    }
   ],
   "source": [
    "simulations(15, 0.7) #liste contenant les résultats de 15 simulations"
   ]
  },
  {
   "cell_type": "code",
   "execution_count": 7,
   "id": "71dddce9",
   "metadata": {},
   "outputs": [],
   "source": [
    "# Calcul du nombre moyen du succès après n simulations\n",
    "def moy_succes(n,p):\n",
    "    return sum(simulations(n,p))/n # le nombre moyen de succès "
   ]
  },
  {
   "cell_type": "code",
   "execution_count": 8,
   "id": "ea7780be",
   "metadata": {},
   "outputs": [
    {
     "data": {
      "text/plain": [
       "139.805"
      ]
     },
     "execution_count": 8,
     "metadata": {},
     "output_type": "execute_result"
    }
   ],
   "source": [
    "moy_succes(200,0.7) # nombre moyen du succès après 200 simulations"
   ]
  },
  {
   "cell_type": "code",
   "execution_count": 9,
   "id": "f96be127",
   "metadata": {},
   "outputs": [
    {
     "data": {
      "text/plain": [
       "1400.4475"
      ]
     },
     "execution_count": 9,
     "metadata": {},
     "output_type": "execute_result"
    }
   ],
   "source": [
    "moy_succes(2000,0.7) # nombre moyen du succès après 20000 simulations"
   ]
  },
  {
   "cell_type": "code",
   "execution_count": null,
   "id": "7562151b",
   "metadata": {},
   "outputs": [],
   "source": []
  }
 ],
 "metadata": {
  "kernelspec": {
   "display_name": "Python 3 (ipykernel)",
   "language": "python",
   "name": "python3"
  },
  "language_info": {
   "codemirror_mode": {
    "name": "ipython",
    "version": 3
   },
   "file_extension": ".py",
   "mimetype": "text/x-python",
   "name": "python",
   "nbconvert_exporter": "python",
   "pygments_lexer": "ipython3",
   "version": "3.10.9"
  }
 },
 "nbformat": 4,
 "nbformat_minor": 5
}
