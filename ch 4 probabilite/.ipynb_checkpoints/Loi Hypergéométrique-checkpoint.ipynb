{
 "cells": [
  {
   "cell_type": "code",
   "execution_count": 1,
   "id": "04c30e7d",
   "metadata": {},
   "outputs": [],
   "source": [
    "import random\n",
    "import numpy as np"
   ]
  },
  {
   "cell_type": "code",
   "execution_count": 2,
   "id": "88c3e36c",
   "metadata": {},
   "outputs": [],
   "source": [
    "# Simule une variable aléatoire suivant une loi hypergéométrique.   \n",
    "    # n : nombre d'essais\n",
    "    # K : nombre de succès dans la population\n",
    "    # N : taille de la population\n",
    "    # num_simulations : nombre de simulations à effectuer\n",
    "    \n",
    "def hypergeometrique(n, K, N):\n",
    "    successes = 0\n",
    "    \n",
    "    # Sélectionne n éléments aléatoires de la population contenant K succès\n",
    "    population = [1] * K + [0] * (N - K)\n",
    "    for _ in range(n):\n",
    "        # Sélectionne un élément de la population\n",
    "        selected = random.choice(population)\n",
    "        \n",
    "        # Si c'est un succès, on incrémente le compteur de succès\n",
    "        if selected == 1:\n",
    "            successes += 1\n",
    "    \n",
    "    return successes"
   ]
  },
  {
   "cell_type": "code",
   "execution_count": 3,
   "id": "96c04204",
   "metadata": {},
   "outputs": [
    {
     "data": {
      "text/plain": [
       "4"
      ]
     },
     "execution_count": 3,
     "metadata": {},
     "output_type": "execute_result"
    }
   ],
   "source": [
    "# Exemple d'utilisation avec n = 10, K = 5, N = 20 et num_simulations = 10\n",
    "n = 10\n",
    "K = 5\n",
    "N = 20\n",
    "hypergeometrique(n, K, N)"
   ]
  },
  {
   "cell_type": "code",
   "execution_count": 4,
   "id": "fbc83b80",
   "metadata": {},
   "outputs": [],
   "source": [
    "# Effectuer les simulations et enregistrer le nombre d'essais pour chaque simulation\n",
    "def simulations(n, K, N,num_simulation):\n",
    "    resultats = [] # création d'une liste vide\n",
    "    for _ in range(num_simulation):\n",
    "        resultats.append(hypergeometrique(n, K, N)) # ajout des résultats de la fonction geometrique à la liste vide\n",
    "    return(resultats)  #cette fonction retourne une liste contenants les n simulations"
   ]
  },
  {
   "cell_type": "code",
   "execution_count": 5,
   "id": "c5eba374",
   "metadata": {},
   "outputs": [
    {
     "data": {
      "text/plain": [
       "[2, 3, 4, 1, 3, 1, 3, 3, 3, 4]"
      ]
     },
     "execution_count": 5,
     "metadata": {},
     "output_type": "execute_result"
    }
   ],
   "source": [
    "# Exemple d'utilisation avec n = 10, K = 5, N = 20 et num_simulations = 10\n",
    "n = 10\n",
    "K = 5\n",
    "N = 20\n",
    "num_simulations = 10\n",
    "simulations(n, K, N,num_simulations)"
   ]
  },
  {
   "cell_type": "code",
   "execution_count": 6,
   "id": "9f7233d4",
   "metadata": {},
   "outputs": [
    {
     "data": {
      "text/plain": [
       "[5, 4, 3, 4, 6, 1, 1, 3, 6, 1, 3, 4, 4, 1, 3, 2, 3, 5, 5, 2]"
      ]
     },
     "execution_count": 6,
     "metadata": {},
     "output_type": "execute_result"
    }
   ],
   "source": [
    "# Exemple d'utilisation avec n = 10, K = 5, N = 20 et num_simulations = 20\n",
    "simulations(10, 5, 20,20)"
   ]
  },
  {
   "cell_type": "code",
   "execution_count": 7,
   "id": "18ba0e53",
   "metadata": {},
   "outputs": [
    {
     "name": "stdout",
     "output_type": "stream",
     "text": [
      "Nombre moyen de succès obtenus : 2.45\n"
     ]
    }
   ],
   "source": [
    "# Calculer le nombre moyen de succès après les simulations\n",
    "moyenne = np.mean(simulations(10,5,20,100))\n",
    "print(\"Nombre moyen de succès obtenus :\", moyenne)"
   ]
  },
  {
   "cell_type": "code",
   "execution_count": null,
   "id": "29a1d55b",
   "metadata": {},
   "outputs": [],
   "source": []
  }
 ],
 "metadata": {
  "kernelspec": {
   "display_name": "Python 3 (ipykernel)",
   "language": "python",
   "name": "python3"
  },
  "language_info": {
   "codemirror_mode": {
    "name": "ipython",
    "version": 3
   },
   "file_extension": ".py",
   "mimetype": "text/x-python",
   "name": "python",
   "nbconvert_exporter": "python",
   "pygments_lexer": "ipython3",
   "version": "3.10.9"
  }
 },
 "nbformat": 4,
 "nbformat_minor": 5
}
