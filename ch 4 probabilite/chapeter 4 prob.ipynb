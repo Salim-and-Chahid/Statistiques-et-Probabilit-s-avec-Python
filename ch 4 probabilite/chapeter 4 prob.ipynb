{
 "cells": [
  {
   "cell_type": "code",
   "execution_count": 1,
   "id": "0024991c",
   "metadata": {},
   "outputs": [
    {
     "name": "stdout",
     "output_type": "stream",
     "text": [
      "[0]\n",
      "Moyenne est : 0.0\n",
      "Variance est : 0.0\n"
     ]
    }
   ],
   "source": [
    "# Loi Bernoulli\n",
    "import numpy as np\n",
    "\n",
    "# Simuler la loi Bernoulli\n",
    "simulation = np.random.choice([0, 1], p=[0.3, 0.7], size=1)\n",
    "print(simulation)\n",
    "\n",
    "# Calculer la moyenne et la variance des simulations\n",
    "E = np.mean(simulation)\n",
    "V = np.var(simulation)\n",
    "\n",
    "# Afficher les résultats\n",
    "print(\"Moyenne est :\", E)\n",
    "print(\"Variance est :\", V)"
   ]
  },
  {
   "cell_type": "code",
   "execution_count": 17,
   "id": "949123a8",
   "metadata": {},
   "outputs": [
    {
     "name": "stdout",
     "output_type": "stream",
     "text": [
      "Moyenne : 0.492\n",
      "Variance : 0.24993600000000005\n"
     ]
    }
   ],
   "source": [
    "# Loi de binomiale\n",
    "import numpy as np\n",
    "\n",
    "# Paramètres de la loi binomiale\n",
    "n = 1  # Nombre d'essais\n",
    "p = 0.5  # Probabilité de succès\n",
    "\n",
    "# Nombre de simulations\n",
    "num_simulations = 1000\n",
    "\n",
    "# Simuler la loi binomiale\n",
    "simulations = np.random.binomial(n, p, num_simulations)\n",
    "\n",
    "# Calculer la moyenne et la variance des simulations\n",
    "mean = np.mean(simulations)\n",
    "variance = np.var(simulations)\n",
    "\n",
    "# Afficher les résultats\n",
    "print(\"Moyenne :\", mean)\n",
    "print(\"Variance :\", variance)"
   ]
  },
  {
   "cell_type": "code",
   "execution_count": 3,
   "id": "77180d3a",
   "metadata": {},
   "outputs": [
    {
     "name": "stdout",
     "output_type": "stream",
     "text": [
      "[0]\n"
     ]
    }
   ],
   "source": [
    "import numpy as np\n",
    "\n",
    "# Paramètre de probabilité de succès\n",
    "p = 0.6\n",
    "\n",
    "# Générer un échantillon de taille 10 selon la loi de Bernoulli\n",
    "echantillon = np.random.binomial(1, p, 1)\n",
    "\n",
    "# Afficher l'échantillon\n",
    "print(echantillon)"
   ]
  },
  {
   "cell_type": "code",
   "execution_count": 5,
   "id": "41e1ae37",
   "metadata": {},
   "outputs": [
    {
     "name": "stdout",
     "output_type": "stream",
     "text": [
      "[ 3  1  2  4 10  1  1  4 17  4 10  1  3  2  1  5  7  1  5  6  3  3  3  9\n",
      "  3  5  4  4  1  3  1  4  1  8  1  2  5  1  9  2  9  2  2  2  2  5  4  1\n",
      "  1  2  6  2  4  1  1  5  7  1  1  3  2 12  4  3  2  1  1  1  1  1  1  4\n",
      "  1  1  6  4  2  1  3  5  6  2  9  1  2  1  1  3  7  3 20  6  4  1  7  1\n",
      "  6  5  2  3  2  2  2  2 10  1  7  5  2 13  6  1  2  1  6  6  4 10  4  7\n",
      "  3  2  2  4  2 13  5  4  3  1  1  2  1  2  1  2  1  3  4  4  1  2  5  2\n",
      "  6  4  2  1  2  6  2  4  1  1  1  4  2  1  3  5  3  8  2  5  6 12  1  1\n",
      "  4  3  1  2  1  1  1  8  9 14 10  9  2  6  1  3  6  3  3  1  4  5  9  4\n",
      "  3 14  3 10  4  2  1  2  1  3  1  3  1  6  3  4  3  3  1  7  2  1  7 21\n",
      "  2  2  3  1  1  1  3  1  1  3  1  4  1  4  2  2  1  3  3  1  8  2  2  6\n",
      "  5  1  9  4  4  1  4  3  1  2  1  8  1  1  5  2  4  2  2  1  7  2  2  8\n",
      "  1  3  3  5  5  5  3  1  1  1  2  3  2  4  7  2  2  4  2  1  9  6  2  3\n",
      "  7  2  7  2  2  1  4  3  2  2  5  1  2  2  3  8  1  9  4  1  4  1  4  5\n",
      "  6  2  2  1  2  5  2  4  6  7  7  1  7  1 14  8  4  1  2  9  6  3  8  1\n",
      "  1  1  2  3  1  6  1  1  3  1  7  1  2  8  2  7  3  3  2  1  6  1  1  2\n",
      "  1  1  5  9  7  2  4  7  2 12  6  3  5  4  1  2  5  1  1  1  2  1  5  2\n",
      "  4  2  2  6  7  1  7 13  1  1  1  3  1  1  1  4  1  3  1  2  7  1  5  8\n",
      "  5  7  7  1  1  4  1  3  1  2  6  1  3 11  3  5  3  4  2  2  4  4  3  5\n",
      "  3  3  6  2  1  1  2  2  2  1  4  1  1  1  2  2  5  3  1  5  1  1  5  1\n",
      "  6  2  1  2 11  1  3  1  5  1  1 11  2  4  2  7  1  6  4  2  1  2  2  8\n",
      "  2 13  1  1  2  6  5  3  7  2  3  1  3  3  7  1  3  1  3  2  1  2  3  3\n",
      "  1  2  2  1  5  5  3  2  1  1  1  1  1  1  2  1  4  2  6  1  6  1  4  1\n",
      "  2  3  3  3  2  3  4  1  5  2  2  1  2  3  2  1  4  1  2  5  1  3  1  1\n",
      "  2  2  6 10 12  3  1  3  1  2  3 11  1  1 21  7  1  1  2  3  1  1  1  2\n",
      "  1  4 10  2  2  1  2  1  1  3  2  1  1  6  3  2 10  2  3  4  2  1  2  1\n",
      " 11  6  1  2  2  4  2  1  6  1  3  2  1  6  8  3  2  1  1  1 12  6  1  7\n",
      "  2  1  1  6  7  7  1  1  5  4  2  4  2  3  3  2  2  4 16  2  2  2  5  4\n",
      "  4  1  2  1  2  1  1  4  2  3  3  1  1  1  1  1  3  7  6  1  4  7  1  7\n",
      "  4  1  5  3  2  2  9  4  3  3  1  1  7  4  3  1  2  1  1  5  1  1  4  4\n",
      "  2  3  1  5  1  3  4  2  5  6  4  2  3  2 14  3  1  8  3  6  2  4  1  1\n",
      "  3 11  1  1  2  2  1  5  4  2  7  4  6  1  5  6  1  2  5  5  2  2  1  4\n",
      "  3 11  1 11  1  1 12  2  2  9  3  4  4  1  3  4  1  8  2  4  1 15  3  2\n",
      "  7  1  1  1  1  5  1  5 15  6  1  2  1  1  1  3  7  6  7  6  4  1  1  1\n",
      "  2  8  7  2  3  4  9  1  3  1  1 12  2  2  2  4  2  1  2  2  1  7  4  1\n",
      "  1  1  5  2  3 17  2 10  1  1  3  2  3  1  3  5  2  1  3  1  5  4  1  6\n",
      "  2  3  7  8  6  3  1  1  8  1  1  1  2  3  3  6  5  8  5  2  2  4  3  2\n",
      "  4  3 14  3  3  1  2  5  1  3  5  2  6  4  4  1  1 12  3  4 10  4  3  3\n",
      "  4  2  4  1  6  1  8  1  3  6  1 11  1  3  4  4  3  4  2  8  1  1  6  2\n",
      "  5  2  1  1  1  1  1  3  2  5  3  1  7  1  1  7  2  5  5  1  4 12  6  2\n",
      "  3  3  3  1 11  2  3  2  6  1  3  2  2  1  1  4  2 13  2  2  1  7  4  4\n",
      "  5  3  6  1  1  1  2  2  4  4  2 10  1  1  2  6  5  1  1  1  3  4  2  3\n",
      "  1  2  1  4  5  1  1  3  3  5  3  3  3  3  3  3]\n",
      "Moyenne : 3.453\n",
      "Variance : 8.699791000000001\n"
     ]
    }
   ],
   "source": [
    "# Loi Géométrique\n",
    "import numpy as np\n",
    "\n",
    "# Paramètre de probabilité de succès\n",
    "p = 0.3\n",
    "\n",
    "# Simuler un échantillon de taille 1000 selon la loi géométrique\n",
    "simulations = np.random.geometric(p, 1000)\n",
    "\n",
    "# Calculer la moyenne de l'échantillon\n",
    "E = np.mean(simulations)\n",
    "V = np.var(simulations)\n",
    "\n",
    "# Afficher la moyenne\n",
    "print(\"Moyenne :\", E)\n",
    "print(\"Variance :\", V)"
   ]
  },
  {
   "cell_type": "code",
   "execution_count": 8,
   "id": "f7e268f1",
   "metadata": {},
   "outputs": [
    {
     "name": "stdout",
     "output_type": "stream",
     "text": [
      "Moyenne : 5.345\n",
      "Variance : 9.732\n"
     ]
    }
   ],
   "source": [
    "import numpy as np\n",
    "\n",
    "# Paramètres de l'intervalle\n",
    "a = 0  # borne inférieure\n",
    "b = 10  # borne supérieure\n",
    "\n",
    "# Simuler un échantillon de taille 100 selon la loi uniforme\n",
    "simulations = np.random.uniform(a, b, 100)\n",
    "\n",
    "# Calculer la moyenne et la variance\n",
    "E = np.mean(simulations)\n",
    "V = np.var(simulations)\n",
    "\n",
    "# Afficher la moyenne\n",
    "print(\"Moyenne :\", format(E, '.3f'))\n",
    "print(\"Variance :\", format(V, '.3f'))"
   ]
  },
  {
   "cell_type": "code",
   "execution_count": null,
   "id": "b89b2e94",
   "metadata": {},
   "outputs": [],
   "source": [
    "import numpy as np\n",
    "\n",
    "# Paramètres de la loi hypergéométrique\n",
    "population_size = 100  # taille de la population totale\n",
    "success_population = 30  # nombre de succès dans la population\n",
    "sample_size = 10  # taille de l'échantillon\n",
    "\n",
    "# Simuler un échantillon de taille 1000 selon la loi hypergéométrique\n",
    "echantillon = np.random.hypergeometric(success_population, population_size - success_population, sample_size, 1000)\n",
    "\n",
    "# Afficher l'échantillon\n",
    "print(echantillon)\n"
   ]
  }
 ],
 "metadata": {
  "kernelspec": {
   "display_name": "Python 3 (ipykernel)",
   "language": "python",
   "name": "python3"
  },
  "language_info": {
   "codemirror_mode": {
    "name": "ipython",
    "version": 3
   },
   "file_extension": ".py",
   "mimetype": "text/x-python",
   "name": "python",
   "nbconvert_exporter": "python",
   "pygments_lexer": "ipython3",
   "version": "3.10.9"
  }
 },
 "nbformat": 4,
 "nbformat_minor": 5
}
