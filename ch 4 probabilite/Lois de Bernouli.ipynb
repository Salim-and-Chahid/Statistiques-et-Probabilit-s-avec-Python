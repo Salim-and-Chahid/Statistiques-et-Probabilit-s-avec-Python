{
 "cells": [
  {
   "cell_type": "code",
   "execution_count": 1,
   "id": "86616564",
   "metadata": {},
   "outputs": [],
   "source": [
    "import random"
   ]
  },
  {
   "cell_type": "code",
   "execution_count": 2,
   "id": "2def8ec9",
   "metadata": {},
   "outputs": [],
   "source": [
    "# simuler une variable aléatoitre suivant une loi de Bernouli de paramètre p\n",
    "def bernouli(p):\n",
    "    r = random.random()  \n",
    "    if r<p:\n",
    "        return 1 # succès\n",
    "    else :\n",
    "        return 0 # échec\n",
    "    "
   ]
  },
  {
   "cell_type": "code",
   "execution_count": 3,
   "id": "5dd47b09",
   "metadata": {},
   "outputs": [
    {
     "data": {
      "text/plain": [
       "0"
      ]
     },
     "execution_count": 3,
     "metadata": {},
     "output_type": "execute_result"
    }
   ],
   "source": [
    "bernouli(0.4) #simuler une variable aléatoitre suivant une loi de Bernouli de paramètre p=0,4"
   ]
  },
  {
   "cell_type": "code",
   "execution_count": 4,
   "id": "3fb1ce8d",
   "metadata": {},
   "outputs": [],
   "source": [
    "# nombre de simulation = n\n",
    "def simulations(p,n):\n",
    "    resultats = [] # création d'une liste vide\n",
    "    for _ in range(n):\n",
    "        resultats.append(bernouli(p)) # ajout des résultats de la fonction bernouli à la liste vide\n",
    "    return(resultats)  #cette fonction retourne une liste contenants les n simulations"
   ]
  },
  {
   "cell_type": "code",
   "execution_count": 5,
   "id": "a127009e",
   "metadata": {
    "scrolled": true
   },
   "outputs": [
    {
     "data": {
      "text/plain": [
       "[1, 0, 1, 0, 0, 0, 1, 1, 0, 1, 1, 0, 1, 0, 1, 1, 1, 0, 0, 0]"
      ]
     },
     "execution_count": 5,
     "metadata": {},
     "output_type": "execute_result"
    }
   ],
   "source": [
    "simulations(0.4,20) #liste contenant les résultats de 20 simulations"
   ]
  },
  {
   "cell_type": "code",
   "execution_count": 6,
   "id": "eb1c8fd2",
   "metadata": {},
   "outputs": [
    {
     "data": {
      "text/plain": [
       "[1, 0, 1, 1, 1, 0, 0, 1, 0, 0, 1, 0, 0, 0, 0, 0, 1, 1, 0, 0, 0, 0, 0, 1, 0]"
      ]
     },
     "execution_count": 6,
     "metadata": {},
     "output_type": "execute_result"
    }
   ],
   "source": [
    "simulations(0.4,25) #liste contenant les résultats de 25 simulations"
   ]
  },
  {
   "cell_type": "code",
   "execution_count": 7,
   "id": "beae101f",
   "metadata": {},
   "outputs": [],
   "source": [
    "# Calcul de la fréquence du succès après n simulations\n",
    "def freq_succes(p,n):\n",
    "    return sum(simulations(p,n))/n # le nombre de succès est égal à la somme des éléments de la liste"
   ]
  },
  {
   "cell_type": "code",
   "execution_count": 8,
   "id": "74a025a7",
   "metadata": {},
   "outputs": [
    {
     "data": {
      "text/plain": [
       "0.42"
      ]
     },
     "execution_count": 8,
     "metadata": {},
     "output_type": "execute_result"
    }
   ],
   "source": [
    "freq_succes(0.4,100) #fréquence du succès après 100 simulations"
   ]
  },
  {
   "cell_type": "code",
   "execution_count": 9,
   "id": "96e907a0",
   "metadata": {},
   "outputs": [
    {
     "data": {
      "text/plain": [
       "0.39756"
      ]
     },
     "execution_count": 9,
     "metadata": {},
     "output_type": "execute_result"
    }
   ],
   "source": [
    "freq_succes(0.4,100000) #fréquence du succès après 100000 simulations"
   ]
  },
  {
   "cell_type": "code",
   "execution_count": 10,
   "id": "63f91620",
   "metadata": {},
   "outputs": [
    {
     "data": {
      "text/plain": [
       "0.400352"
      ]
     },
     "execution_count": 10,
     "metadata": {},
     "output_type": "execute_result"
    }
   ],
   "source": [
    "freq_succes(0.4,1000000) #fréquence du succès après 1000000 simulations"
   ]
  },
  {
   "cell_type": "code",
   "execution_count": null,
   "id": "2c63eb59",
   "metadata": {},
   "outputs": [],
   "source": []
  }
 ],
 "metadata": {
  "kernelspec": {
   "display_name": "Python 3 (ipykernel)",
   "language": "python",
   "name": "python3"
  },
  "language_info": {
   "codemirror_mode": {
    "name": "ipython",
    "version": 3
   },
   "file_extension": ".py",
   "mimetype": "text/x-python",
   "name": "python",
   "nbconvert_exporter": "python",
   "pygments_lexer": "ipython3",
   "version": "3.10.9"
  }
 },
 "nbformat": 4,
 "nbformat_minor": 5
}
