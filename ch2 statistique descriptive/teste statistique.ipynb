{
 "cells": [
  {
   "cell_type": "code",
   "execution_count": 1,
   "id": "c73946b2",
   "metadata": {},
   "outputs": [
    {
     "name": "stdout",
     "output_type": "stream",
     "text": [
      "stat = 0.94, p = 0.58\n",
      "Les données semblent suivre une distribution normale (on ne peut pas rejeter H0)\n"
     ]
    }
   ],
   "source": [
    "from scipy.stats import shapiro\n",
    "\n",
    "# les données\n",
    "data = [0.1, 0.2, 0.3, 0.4, 0.5, 0.6, 0.7, 0.8, 0.9, 0.10]\n",
    "\n",
    "# Effectuer le test de Shapiro-Wilk\n",
    "stat, p = shapiro(data)\n",
    "\n",
    "# Afficher les résultats\n",
    "print('stat = %.2f, p = %.2f' % (stat, p))\n",
    "\n",
    "# Interprétation des résultats\n",
    "alpha = 0.05\n",
    "\n",
    "if p > alpha:\n",
    "    print(\"Les données semblent suivre une distribution normale (on ne peut pas rejeter H0)\")\n",
    "else:\n",
    "    print(\"Les données ne suivent pas une distribution normale (on rejette H0)\")"
   ]
  },
  {
   "cell_type": "code",
   "execution_count": 3,
   "id": "8128a62a",
   "metadata": {},
   "outputs": [
    {
     "name": "stdout",
     "output_type": "stream",
     "text": [
      "Statistique de test est :  3.48\n",
      "p-valeur :  0.18\n",
      "L'échantillon suit une distribution normale\n"
     ]
    }
   ],
   "source": [
    "from scipy.stats import normaltest\n",
    "import numpy as np\n",
    "\n",
    "# créer un échantillon aléatoire de 100 observations à partir d'une distribution normale\n",
    "data = np.random.normal(loc=0, scale=1, size=100)\n",
    "\n",
    "# Calculer le test de K^2 de D'Agostino\n",
    "stat, pval = normaltest(data)\n",
    "\n",
    "# Afficher les résultats\n",
    "print(\"Statistique de test est : \", format(stat, '.2f'))\n",
    "print(\"p-valeur : \", format(pval, '.2f'))\n",
    "\n",
    "# Interpréter les résultats\n",
    "if pval < 0.05:\n",
    "    print(\"L'échantillon ne suit pas une distribution normale\")\n",
    "else:\n",
    "    print(\"L'échantillon suit une distribution normale\")\n"
   ]
  },
  {
   "cell_type": "code",
   "execution_count": 5,
   "id": "85161028",
   "metadata": {},
   "outputs": [
    {
     "name": "stdout",
     "output_type": "stream",
     "text": [
      "Statistique U est :  0.500\n",
      "Valeur-p est :  0.016\n",
      "Il y a une différence significative entre les deux échantillons\n"
     ]
    }
   ],
   "source": [
    "from scipy.stats import mannwhitneyu\n",
    "import numpy as np\n",
    "\n",
    "# Créer deux échantillons\n",
    "ech1 = np.array([1, 2, 3, 6, 5])\n",
    "ech2 = np.array([6, 7, 8, 8, 10])\n",
    "\n",
    "# Effectuer le test U de Mann-Whitney\n",
    "statistic, p_value = mannwhitneyu(ech1, ech2)\n",
    "\n",
    "# Afficher les résultats\n",
    "print(\"Statistique U est : \", format(statistic, '.3f'))\n",
    "print(\"Valeur-p est : \", format(p_value, '.3f'))\n",
    "\n",
    "# Interpréter les résultats\n",
    "if p_value < 0.05:\n",
    "    print(\"Il y a une différence significative entre les deux échantillons\")\n",
    "else:\n",
    "    print(\"Il n'y a pas de différence significative entre les deux échantillons\")"
   ]
  },
  {
   "cell_type": "code",
   "execution_count": 7,
   "id": "5e56bf95",
   "metadata": {},
   "outputs": [
    {
     "name": "stdout",
     "output_type": "stream",
     "text": [
      "Statistique de test H est :  0.141\n",
      "Valeur-p est :  0.932\n",
      "Il n'y a pas de différences significatives entre les distributions des échantillons\n"
     ]
    }
   ],
   "source": [
    "from scipy.stats import kruskal\n",
    "import numpy as np\n",
    "\n",
    "# Échantillons indépendants\n",
    "ech1 = np.array([1, 2, 3, 4, 5])\n",
    "ech2 = np.array([2, 2, 3, 4, 6])\n",
    "ech3 = np.array([1, 2, 4, 4, 6])\n",
    "\n",
    "# Effectuer le test de Kruskal-Wallis\n",
    "statistic, p_value = kruskal(ech1, ech2, ech3)\n",
    "\n",
    "# Afficher les résultats\n",
    "print(\"Statistique de test H est : \", format(statistic, '.3f'))\n",
    "print(\"Valeur-p est : \", format(p_value, '.3f'))\n",
    "\n",
    "# Interpréter les résultats\n",
    "if p_value < 0.05:\n",
    "    print(\"Il y a des différences significatives entre les distributions des échantillons\")\n",
    "else:\n",
    "    print(\"Il n'y a pas de différences significatives entre les distributions des échantillons\")"
   ]
  },
  {
   "cell_type": "code",
   "execution_count": 8,
   "id": "f6714b65",
   "metadata": {},
   "outputs": [
    {
     "name": "stdout",
     "output_type": "stream",
     "text": [
      "Statistique de test est : \n",
      "Valeur-p est : \n",
      "Il y a des différences significatives entre les traitements/conditions évalués.\n"
     ]
    }
   ],
   "source": [
    "from scipy.stats import friedmanchisquare\n",
    "import numpy as np\n",
    "\n",
    "# Mesures répétées pour chaque traitement/condition\n",
    "treatment1 = np.array([4, 2, 3, 2, 1])\n",
    "treatment2 = np.array([5, 4, 3, 2, 1])\n",
    "treatment3 = np.array([3, 2, 1, 1, 1])\n",
    "\n",
    "# Effectuer le test de Friedman\n",
    "statistic, p_value = friedmanchisquare(treatment1, treatment2, treatment3)\n",
    "\n",
    "# Afficher les résultats\n",
    "print(\"Statistique de test est : \".format(statistic, '.3f'))\n",
    "print(\"Valeur-p est : \".format(p_value, '.3f'))\n",
    "\n",
    "# Interpréter les résultats\n",
    "if p_value < 0.05:\n",
    "    print(\"Il y a des différences significatives entre les traitements/conditions évalués.\")\n",
    "else:\n",
    "    print(\"Il n'y a pas de différences significatives entre les traitements/conditions évalués.\")\n"
   ]
  },
  {
   "cell_type": "code",
   "execution_count": 9,
   "id": "03c4abbf",
   "metadata": {},
   "outputs": [
    {
     "name": "stdout",
     "output_type": "stream",
     "text": [
      "Statistique de test est : \n",
      "Valeurs critiques est :  [0.72  0.82  0.984 1.148 1.365]\n",
      "Niveaux de signification est :  [15.  10.   5.   2.5  1. ]\n",
      "L'échantillon suit une distribution normale\n"
     ]
    }
   ],
   "source": [
    "from scipy.stats import anderson\n",
    "import numpy as np\n",
    "\n",
    "# Échantillon de données\n",
    "data = np.array([1.2, 1.5, 1.7, 1.9, 2.1])\n",
    "\n",
    "# Effectuer le test d'Anderson-Darling\n",
    "result = anderson(data)\n",
    "\n",
    "# Afficher les résultats\n",
    "print(\"Statistique de test est : \".format(result.statistic, '.3f'))\n",
    "print(\"Valeurs critiques est : \", result.critical_values)\n",
    "print(\"Niveaux de signification est : \", result.significance_level)\n",
    "\n",
    "# Interpréter les résultats\n",
    "if result.statistic > result.critical_values[2]:\n",
    "    print(\"L'échantillon ne suit pas une distribution normale\")\n",
    "else:\n",
    "    print(\"L'échantillon suit une distribution normale\")\n"
   ]
  },
  {
   "cell_type": "code",
   "execution_count": null,
   "id": "0b4f5be3",
   "metadata": {},
   "outputs": [],
   "source": []
  }
 ],
 "metadata": {
  "kernelspec": {
   "display_name": "Python 3 (ipykernel)",
   "language": "python",
   "name": "python3"
  },
  "language_info": {
   "codemirror_mode": {
    "name": "ipython",
    "version": 3
   },
   "file_extension": ".py",
   "mimetype": "text/x-python",
   "name": "python",
   "nbconvert_exporter": "python",
   "pygments_lexer": "ipython3",
   "version": "3.10.9"
  }
 },
 "nbformat": 4,
 "nbformat_minor": 5
}
