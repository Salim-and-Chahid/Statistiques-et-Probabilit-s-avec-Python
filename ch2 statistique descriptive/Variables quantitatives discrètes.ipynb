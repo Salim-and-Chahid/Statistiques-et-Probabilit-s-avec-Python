{
 "cells": [
  {
   "cell_type": "code",
   "execution_count": 4,
   "id": "f5d7cefe",
   "metadata": {},
   "outputs": [
    {
     "name": "stdout",
     "output_type": "stream",
     "text": [
      "L'effectif total est N =  50\n"
     ]
    }
   ],
   "source": [
    "data = [1, 1, 1, 1, 1, 2, 2, 2, 2, 2, 2, 2, 2, 2, 3, 3, 3 ,3 ,3 ,3 ,3 ,3 ,3 ,3, 3,\n",
    "3, 3, 3, 3, 4, 4, 4, 4, 4, 4, 4, 4, 4, 4, 5, 5, 5, 5, 5, 5, 6, 6, 6, 8, 8]\n",
    "N = len(data)\n",
    "\n",
    "print(\"L'effectif total est N = \",N) # afficher L'effectif total est N = 50\n"
   ]
  },
  {
   "cell_type": "code",
   "execution_count": 5,
   "id": "d1d795f7",
   "metadata": {},
   "outputs": [
    {
     "name": "stdout",
     "output_type": "stream",
     "text": [
      "Le mode de l'ensemble de données est: 6\n"
     ]
    }
   ],
   "source": [
    "import statistics as stat\n",
    "data = [1, 2, 3, 3, 4, 5, 5, 5, 6, 6, 6, 6]\n",
    "print(\"Le mode de l'ensemble de données est:\", stat.mode(data)) # afficher Le mode de l'ensemble de données est : 6"
   ]
  },
  {
   "cell_type": "code",
   "execution_count": 1,
   "id": "5911df80",
   "metadata": {},
   "outputs": [
    {
     "name": "stdout",
     "output_type": "stream",
     "text": [
      "La médiane  de l'ensemble de données est :  5.0\n"
     ]
    }
   ],
   "source": [
    "import statistics as stat\n",
    "data = [1, 2, 3, 3, 4, 5, 5, 5, 6, 6, 6, 6]\n",
    "print(\"La médiane  de l'ensemble de données est : \", stat.median(data)) # afficher Le médiane de l'ensemble de données est : 5"
   ]
  },
  {
   "cell_type": "code",
   "execution_count": 8,
   "id": "56e48df7",
   "metadata": {},
   "outputs": [
    {
     "name": "stdout",
     "output_type": "stream",
     "text": [
      "Premier quartile Q1 =  3.0\n",
      "Troisième quartile Q3 =  6.0\n"
     ]
    }
   ],
   "source": [
    "import numpy as np\n",
    "data = [1, 2, 3, 3, 4, 5, 5, 5, 6, 6, 6, 6]\n",
    "q1, q3 = np.quantile(data, [0.25, 0.75])\n",
    "print(\"Premier quartile Q1 = \", q1) # afficher Premier quartile Q1 = 3\"\n",
    "print(\"Troisième quartile Q3 = \", q3) # afficher Troisième quartile Q3 = 6 \"\n"
   ]
  },
  {
   "cell_type": "code",
   "execution_count": 11,
   "id": "c8b529ff",
   "metadata": {},
   "outputs": [
    {
     "name": "stdout",
     "output_type": "stream",
     "text": [
      "V(X) =  2.722222222222222\n"
     ]
    }
   ],
   "source": [
    "import numpy as np\n",
    "\n",
    "data = [1, 2, 3, 3, 4, 5, 5, 5, 6, 6, 6, 6]\n",
    "\n",
    "var = np.var(data)\n",
    "\n",
    "print(\"V(X) = \",var) # afficher V(X) = 2.722222222222222\n"
   ]
  },
  {
   "cell_type": "code",
   "execution_count": 12,
   "id": "768ccf7d",
   "metadata": {},
   "outputs": [
    {
     "name": "stdout",
     "output_type": "stream",
     "text": [
      "L'écart-type est :  1.6499158227686108\n"
     ]
    }
   ],
   "source": [
    "import numpy as np\n",
    "\n",
    "data = [1, 2, 3, 3, 4, 5, 5, 5, 6, 6, 6, 6]\n",
    "sigma = np.std(data, ddof=0)\n",
    "\n",
    "print(\"L'écart-type est : \",sigma) # afficher L'écart-type est :  1.6499158227686108\n"
   ]
  },
  {
   "cell_type": "code",
   "execution_count": 13,
   "id": "3eb59ca7",
   "metadata": {},
   "outputs": [
    {
     "name": "stdout",
     "output_type": "stream",
     "text": [
      "Coefficient de variation Cv(X) = 0.38%\n"
     ]
    }
   ],
   "source": [
    "import numpy as np\n",
    "\n",
    "# Définir un tableau de données\n",
    "data = [1, 2, 3, 3, 4, 5, 5, 5, 6, 6, 6, 6]\n",
    "\n",
    "# Calculer l'écart-type et la moyenne\n",
    "sigma = np.std(data)\n",
    "moyenne = np.mean(data)\n",
    "\n",
    "# Calculer le coefficient de variation\n",
    "cv = sigma / moyenne\n",
    "\n",
    "print(\"Coefficient de variation Cv(X) = {:.2f}%\".format(cv)) # afficher Coefficient de variation Cv(X) = 0.38\n"
   ]
  },
  {
   "cell_type": "code",
   "execution_count": 1,
   "id": "b1d8f7c2",
   "metadata": {},
   "outputs": [
    {
     "data": {
      "image/png": "[encoded data removed]",
      "text/plain": [
       "<Figure size 640x480 with 1 Axes>"
      ]
     },
     "metadata": {},
     "output_type": "display_data"
    }
   ],
   "source": [
    "import matplotlib.pyplot as plt\n",
    "\n",
    "xi = [1, 2, 3, 4, 5, 6]\n",
    "ni = [1, 1, 2, 1, 3, 4]\n",
    "\n",
    "plt.bar(xi, ni)\n",
    "plt.title('Diagramme en batôns des effectifs')\n",
    "plt.xlabel('Modalités')\n",
    "plt.ylabel('Effectifs')\n",
    "plt.show()\n"
   ]
  },
  {
   "cell_type": "code",
   "execution_count": 3,
   "id": "3b0e4711",
   "metadata": {},
   "outputs": [
    {
     "name": "stdout",
     "output_type": "stream",
     "text": [
      "La moyenne arithmétique est :  4.333333333333333\n"
     ]
    }
   ],
   "source": [
    "import statistics as stat\n",
    "\n",
    "# Définir une liste de nombres\n",
    "data = [1, 2, 3, 3, 4, 5, 5, 5, 6, 6, 6, 6]\n",
    "\n",
    "# Calculer la moyenne arithmétique\n",
    "moyenne = stat.mean(data)\n",
    "\n",
    "# Afficher la moyenne\n",
    "print(\"La moyenne arithmétique est : \", moyenne) # afficher La moyenne arithmétique est : 4.333333333333333\n"
   ]
  },
  {
   "cell_type": "code",
   "execution_count": 6,
   "id": "b730ba7e",
   "metadata": {},
   "outputs": [
    {
     "name": "stdout",
     "output_type": "stream",
     "text": [
      "Les déciles sont : [2.1 3.  3.3 4.4 5.  5.  5.7 6.  6. ]\n"
     ]
    }
   ],
   "source": [
    "import numpy as np\n",
    "data = [1, 2, 3, 3, 4, 5, 5, 5, 6, 6, 6, 6]\n",
    "deciles = np.percentile(data, [10, 20, 30, 40, 50, 60, 70, 80, 90])\n",
    "# Afficher les déciles\n",
    "print(\"Les déciles sont :\", deciles) # afficher Les déciles sont : [2.1 3.  3.3  4.4  5.  5.  5.7  6.  6. ]\n"
   ]
  },
  {
   "cell_type": "code",
   "execution_count": 1,
   "id": "ad8377cf",
   "metadata": {},
   "outputs": [],
   "source": [
    "# exercice"
   ]
  },
  {
   "cell_type": "code",
   "execution_count": 3,
   "id": "a9f4bc3d",
   "metadata": {},
   "outputs": [
    {
     "name": "stdout",
     "output_type": "stream",
     "text": [
      "L’intervalle interquartile est [ 3.0 ,  6.0 ]\n"
     ]
    }
   ],
   "source": [
    "import numpy as np\n",
    "data = [1, 2, 3, 3, 4, 5, 5, 5, 6, 6, 6, 6]\n",
    "q1, q3 = np.quantile(data, [0.25, 0.75])\n",
    "print(\"L’intervalle interquartile est [\", q1,\", \",q3,\"]\") # afficher L’intervalle interquartile est [3, 6]"
   ]
  },
  {
   "cell_type": "code",
   "execution_count": 4,
   "id": "4304680b",
   "metadata": {},
   "outputs": [
    {
     "data": {
      "image/png": "[encoded data removed]",
      "text/plain": [
       "<Figure size 640x480 with 1 Axes>"
      ]
     },
     "metadata": {},
     "output_type": "display_data"
    }
   ],
   "source": [
    "import matplotlib.pyplot as plt\n",
    "\n",
    "# Données à tracer\n",
    "data = [1, 2, 3, 3, 4, 5, 5, 5, 6, 6, 6, 6]\n",
    "\n",
    "# Tracer la boîte à moustaches\n",
    "plt.boxplot(data)\n",
    "\n",
    "# Afficher le graphique\n",
    "plt.show()"
   ]
  },
  {
   "cell_type": "code",
   "execution_count": 38,
   "id": "5a589c62",
   "metadata": {},
   "outputs": [
    {
     "data": {
      "text/html": [
       "<div>\n",
       "<style scoped>\n",
       "    .dataframe tbody tr th:only-of-type {\n",
       "        vertical-align: middle;\n",
       "    }\n",
       "\n",
       "    .dataframe tbody tr th {\n",
       "        vertical-align: top;\n",
       "    }\n",
       "\n",
       "    .dataframe thead th {\n",
       "        text-align: right;\n",
       "    }\n",
       "</style>\n",
       "<table border=\"1\" class=\"dataframe\">\n",
       "  <thead>\n",
       "    <tr style=\"text-align: right;\">\n",
       "      <th></th>\n",
       "      <th>les mois</th>\n",
       "      <th>Ventes</th>\n",
       "    </tr>\n",
       "  </thead>\n",
       "  <tbody>\n",
       "    <tr>\n",
       "      <th>0</th>\n",
       "      <td>1.0</td>\n",
       "      <td>300.0</td>\n",
       "    </tr>\n",
       "    <tr>\n",
       "      <th>1</th>\n",
       "      <td>2.0</td>\n",
       "      <td>200.0</td>\n",
       "    </tr>\n",
       "    <tr>\n",
       "      <th>2</th>\n",
       "      <td>3.0</td>\n",
       "      <td>250.0</td>\n",
       "    </tr>\n",
       "    <tr>\n",
       "      <th>3</th>\n",
       "      <td>4.0</td>\n",
       "      <td>400.0</td>\n",
       "    </tr>\n",
       "    <tr>\n",
       "      <th>4</th>\n",
       "      <td>5.0</td>\n",
       "      <td>500.0</td>\n",
       "    </tr>\n",
       "    <tr>\n",
       "      <th>5</th>\n",
       "      <td>6.0</td>\n",
       "      <td>550.0</td>\n",
       "    </tr>\n",
       "    <tr>\n",
       "      <th>6</th>\n",
       "      <td>7.0</td>\n",
       "      <td>700.0</td>\n",
       "    </tr>\n",
       "    <tr>\n",
       "      <th>7</th>\n",
       "      <td>8.0</td>\n",
       "      <td>750.0</td>\n",
       "    </tr>\n",
       "    <tr>\n",
       "      <th>8</th>\n",
       "      <td>9.0</td>\n",
       "      <td>800.0</td>\n",
       "    </tr>\n",
       "    <tr>\n",
       "      <th>9</th>\n",
       "      <td>10.0</td>\n",
       "      <td>700.0</td>\n",
       "    </tr>\n",
       "    <tr>\n",
       "      <th>10</th>\n",
       "      <td>11.0</td>\n",
       "      <td>300.0</td>\n",
       "    </tr>\n",
       "    <tr>\n",
       "      <th>11</th>\n",
       "      <td>12.0</td>\n",
       "      <td>200.0</td>\n",
       "    </tr>\n",
       "  </tbody>\n",
       "</table>\n",
       "</div>"
      ],
      "text/plain": [
       "    les mois  Ventes\n",
       "0        1.0   300.0\n",
       "1        2.0   200.0\n",
       "2        3.0   250.0\n",
       "3        4.0   400.0\n",
       "4        5.0   500.0\n",
       "5        6.0   550.0\n",
       "6        7.0   700.0\n",
       "7        8.0   750.0\n",
       "8        9.0   800.0\n",
       "9       10.0   700.0\n",
       "10      11.0   300.0\n",
       "11      12.0   200.0"
      ]
     },
     "execution_count": 38,
     "metadata": {},
     "output_type": "execute_result"
    }
   ],
   "source": [
    "# Importer les bibliothèques\n",
    "import pandas as pd\n",
    "import statistics as stat\n",
    "import numpy as np\n",
    "import matplotlib.pyplot as plt\n",
    "\n",
    "# Créer un ensemble de données\n",
    "data = pd.read_excel(\"donnez1.xlsx\")\n",
    "print(data)"
   ]
  },
  {
   "cell_type": "code",
   "execution_count": 40,
   "id": "62396927",
   "metadata": {},
   "outputs": [
    {
     "ename": "KeyError",
     "evalue": "0",
     "output_type": "error",
     "traceback": [
      "\u001b[1;31m---------------------------------------------------------------------------\u001b[0m",
      "\u001b[1;31mKeyError\u001b[0m                                  Traceback (most recent call last)",
      "File \u001b[1;32m~\\anaconda3\\lib\\site-packages\\pandas\\core\\indexes\\base.py:3802\u001b[0m, in \u001b[0;36mIndex.get_loc\u001b[1;34m(self, key, method, tolerance)\u001b[0m\n\u001b[0;32m   3801\u001b[0m \u001b[38;5;28;01mtry\u001b[39;00m:\n\u001b[1;32m-> 3802\u001b[0m     \u001b[38;5;28;01mreturn\u001b[39;00m \u001b[38;5;28;43mself\u001b[39;49m\u001b[38;5;241;43m.\u001b[39;49m\u001b[43m_engine\u001b[49m\u001b[38;5;241;43m.\u001b[39;49m\u001b[43mget_loc\u001b[49m\u001b[43m(\u001b[49m\u001b[43mcasted_key\u001b[49m\u001b[43m)\u001b[49m\n\u001b[0;32m   3803\u001b[0m \u001b[38;5;28;01mexcept\u001b[39;00m \u001b[38;5;167;01mKeyError\u001b[39;00m \u001b[38;5;28;01mas\u001b[39;00m err:\n",
      "File \u001b[1;32m~\\anaconda3\\lib\\site-packages\\pandas\\_libs\\index.pyx:138\u001b[0m, in \u001b[0;36mpandas._libs.index.IndexEngine.get_loc\u001b[1;34m()\u001b[0m\n",
      "File \u001b[1;32m~\\anaconda3\\lib\\site-packages\\pandas\\_libs\\index.pyx:165\u001b[0m, in \u001b[0;36mpandas._libs.index.IndexEngine.get_loc\u001b[1;34m()\u001b[0m\n",
      "File \u001b[1;32mpandas\\_libs\\hashtable_class_helper.pxi:5745\u001b[0m, in \u001b[0;36mpandas._libs.hashtable.PyObjectHashTable.get_item\u001b[1;34m()\u001b[0m\n",
      "File \u001b[1;32mpandas\\_libs\\hashtable_class_helper.pxi:5753\u001b[0m, in \u001b[0;36mpandas._libs.hashtable.PyObjectHashTable.get_item\u001b[1;34m()\u001b[0m\n",
      "\u001b[1;31mKeyError\u001b[0m: 0",
      "\nThe above exception was the direct cause of the following exception:\n",
      "\u001b[1;31mKeyError\u001b[0m                                  Traceback (most recent call last)",
      "Cell \u001b[1;32mIn[40], line 3\u001b[0m\n\u001b[0;32m      1\u001b[0m \u001b[38;5;66;03m# Calcul le Mode\u001b[39;00m\n\u001b[0;32m      2\u001b[0m mode \u001b[38;5;241m=\u001b[39m data[[\u001b[38;5;124m'\u001b[39m\u001b[38;5;124mColonne1\u001b[39m\u001b[38;5;124m'\u001b[39m]]\u001b[38;5;241m.\u001b[39mmode()\n\u001b[1;32m----> 3\u001b[0m \u001b[38;5;28mprint\u001b[39m(\u001b[38;5;124m\"\u001b[39m\u001b[38;5;124mLe mode est : \u001b[39m\u001b[38;5;124m\"\u001b[39m, \u001b[43mmode\u001b[49m\u001b[43m[\u001b[49m\u001b[38;5;241;43m0\u001b[39;49m\u001b[43m]\u001b[49m)\n",
      "File \u001b[1;32m~\\anaconda3\\lib\\site-packages\\pandas\\core\\frame.py:3807\u001b[0m, in \u001b[0;36mDataFrame.__getitem__\u001b[1;34m(self, key)\u001b[0m\n\u001b[0;32m   3805\u001b[0m \u001b[38;5;28;01mif\u001b[39;00m \u001b[38;5;28mself\u001b[39m\u001b[38;5;241m.\u001b[39mcolumns\u001b[38;5;241m.\u001b[39mnlevels \u001b[38;5;241m>\u001b[39m \u001b[38;5;241m1\u001b[39m:\n\u001b[0;32m   3806\u001b[0m     \u001b[38;5;28;01mreturn\u001b[39;00m \u001b[38;5;28mself\u001b[39m\u001b[38;5;241m.\u001b[39m_getitem_multilevel(key)\n\u001b[1;32m-> 3807\u001b[0m indexer \u001b[38;5;241m=\u001b[39m \u001b[38;5;28;43mself\u001b[39;49m\u001b[38;5;241;43m.\u001b[39;49m\u001b[43mcolumns\u001b[49m\u001b[38;5;241;43m.\u001b[39;49m\u001b[43mget_loc\u001b[49m\u001b[43m(\u001b[49m\u001b[43mkey\u001b[49m\u001b[43m)\u001b[49m\n\u001b[0;32m   3808\u001b[0m \u001b[38;5;28;01mif\u001b[39;00m is_integer(indexer):\n\u001b[0;32m   3809\u001b[0m     indexer \u001b[38;5;241m=\u001b[39m [indexer]\n",
      "File \u001b[1;32m~\\anaconda3\\lib\\site-packages\\pandas\\core\\indexes\\base.py:3804\u001b[0m, in \u001b[0;36mIndex.get_loc\u001b[1;34m(self, key, method, tolerance)\u001b[0m\n\u001b[0;32m   3802\u001b[0m     \u001b[38;5;28;01mreturn\u001b[39;00m \u001b[38;5;28mself\u001b[39m\u001b[38;5;241m.\u001b[39m_engine\u001b[38;5;241m.\u001b[39mget_loc(casted_key)\n\u001b[0;32m   3803\u001b[0m \u001b[38;5;28;01mexcept\u001b[39;00m \u001b[38;5;167;01mKeyError\u001b[39;00m \u001b[38;5;28;01mas\u001b[39;00m err:\n\u001b[1;32m-> 3804\u001b[0m     \u001b[38;5;28;01mraise\u001b[39;00m \u001b[38;5;167;01mKeyError\u001b[39;00m(key) \u001b[38;5;28;01mfrom\u001b[39;00m \u001b[38;5;21;01merr\u001b[39;00m\n\u001b[0;32m   3805\u001b[0m \u001b[38;5;28;01mexcept\u001b[39;00m \u001b[38;5;167;01mTypeError\u001b[39;00m:\n\u001b[0;32m   3806\u001b[0m     \u001b[38;5;66;03m# If we have a listlike key, _check_indexing_error will raise\u001b[39;00m\n\u001b[0;32m   3807\u001b[0m     \u001b[38;5;66;03m#  InvalidIndexError. Otherwise we fall through and re-raise\u001b[39;00m\n\u001b[0;32m   3808\u001b[0m     \u001b[38;5;66;03m#  the TypeError.\u001b[39;00m\n\u001b[0;32m   3809\u001b[0m     \u001b[38;5;28mself\u001b[39m\u001b[38;5;241m.\u001b[39m_check_indexing_error(key)\n",
      "\u001b[1;31mKeyError\u001b[0m: 0"
     ]
    }
   ],
   "source": [
    "# Calcul le Mode\n",
    "mode = data[['Colonne1']].mode()\n",
    "print(\"Le mode est : \", mode[0])"
   ]
  },
  {
   "cell_type": "code",
   "execution_count": 14,
   "id": "8742e7d3",
   "metadata": {},
   "outputs": [
    {
     "name": "stdout",
     "output_type": "stream",
     "text": [
      "Le médiane est :  5.5\n"
     ]
    }
   ],
   "source": [
    "# Calcul la médiane\n",
    "median = data['num1'].median()\n",
    "print(\"Le médiane est : \", median)"
   ]
  },
  {
   "cell_type": "code",
   "execution_count": 15,
   "id": "fb1f8351",
   "metadata": {},
   "outputs": [
    {
     "name": "stdout",
     "output_type": "stream",
     "text": [
      "Les quartiles est :  4.75 6.25\n"
     ]
    }
   ],
   "source": [
    "# Calculer les quartiles\n",
    "q1, q3 = np.quantile(data['num1'], [0.25, 0.75])\n",
    "print(\"Les quartiles est : \", q1, q3)"
   ]
  },
  {
   "cell_type": "code",
   "execution_count": 16,
   "id": "42f036c5",
   "metadata": {},
   "outputs": [
    {
     "name": "stdout",
     "output_type": "stream",
     "text": [
      "Le variance est :  3.2275\n"
     ]
    }
   ],
   "source": [
    "# Calcul la variance\n",
    "var = np.var(data['num1'])\n",
    "print(\"Le variance est : \", var)"
   ]
  },
  {
   "cell_type": "code",
   "execution_count": 17,
   "id": "5cf2df86",
   "metadata": {},
   "outputs": [
    {
     "name": "stdout",
     "output_type": "stream",
     "text": [
      "L'écart-type est :  1.7965244223221681\n"
     ]
    }
   ],
   "source": [
    "# Calcul de L'écart-type\n",
    "sigma = np.std(data['num1'], ddof=0)\n",
    "print(\"L'écart-type est : \", sigma)"
   ]
  },
  {
   "cell_type": "code",
   "execution_count": 19,
   "id": "892d47f5",
   "metadata": {},
   "outputs": [
    {
     "name": "stdout",
     "output_type": "stream",
     "text": [
      "Le la moyenne arithmétique est :  5.35\n"
     ]
    }
   ],
   "source": [
    "# Calculer la moyenne arithmétique\n",
    "moyenne = data['num1'].mean()\n",
    "print(\"Le la moyenne arithmétique est : \", moyenne)"
   ]
  },
  {
   "cell_type": "code",
   "execution_count": 20,
   "id": "f5d1f73e",
   "metadata": {},
   "outputs": [
    {
     "name": "stdout",
     "output_type": "stream",
     "text": [
      "Le coefficient de corelation est :  0.33579895744339594\n"
     ]
    }
   ],
   "source": [
    "# Calculer le coefficient de corelation\n",
    "cv = sigma / moyenne\n",
    "print(\"Le coefficient de corelation est : \", cv)"
   ]
  },
  {
   "cell_type": "code",
   "execution_count": 28,
   "id": "8a7b16e7",
   "metadata": {},
   "outputs": [
    {
     "name": "stdout",
     "output_type": "stream",
     "text": [
      "   Modalite  Effectif\n",
      "0         5         5\n",
      "1         6         5\n",
      "2         8         3\n",
      "3         2         2\n",
      "4         3         2\n",
      "5         7         2\n",
      "6         4         1\n"
     ]
    },
    {
     "data": {
      "text/plain": [
       "Text(0, 0.5, 'Effectifs')"
      ]
     },
     "execution_count": 28,
     "metadata": {},
     "output_type": "execute_result"
    },
    {
     "data": {
      "image/png": "[encoded data removed]",
      "text/plain": [
       "<Figure size 640x480 with 1 Axes>"
      ]
     },
     "metadata": {},
     "output_type": "display_data"
    }
   ],
   "source": [
    "# Tarcer diagramme en batôns\n",
    "serie = pd.Series(data['num1'])\n",
    "table_effectifs = serie.value_counts().reset_index()\n",
    "table_effectifs.columns = ['Modalite', 'Effectif']\n",
    "print(table_effectifs)\n",
    "\n",
    "plt.bar(table_effectifs['Modalite'],table_effectifs['Effectif'])\n",
    "plt.title('Diagramme en batôns')\n",
    "plt.xlabel('Modalités')\n",
    "plt.ylabel('Effectifs')"
   ]
  },
  {
   "cell_type": "code",
   "execution_count": 26,
   "id": "cbdc22a9",
   "metadata": {},
   "outputs": [
    {
     "data": {
      "image/png": "[encoded data removed]",
      "text/plain": [
       "<Figure size 640x480 with 1 Axes>"
      ]
     },
     "metadata": {},
     "output_type": "display_data"
    }
   ],
   "source": [
    "# Tracer la boîte à moustaches\n",
    "plt.boxplot(data['num1'])\n",
    "\n",
    "# Afficher le graphique\n",
    "plt.show()"
   ]
  },
  {
   "cell_type": "code",
   "execution_count": 41,
   "id": "7403a0d4",
   "metadata": {},
   "outputs": [
    {
     "ename": "KeyError",
     "evalue": "'num1'",
     "output_type": "error",
     "traceback": [
      "\u001b[1;31m---------------------------------------------------------------------------\u001b[0m",
      "\u001b[1;31mKeyError\u001b[0m                                  Traceback (most recent call last)",
      "File \u001b[1;32m~\\anaconda3\\lib\\site-packages\\pandas\\core\\indexes\\base.py:3802\u001b[0m, in \u001b[0;36mIndex.get_loc\u001b[1;34m(self, key, method, tolerance)\u001b[0m\n\u001b[0;32m   3801\u001b[0m \u001b[38;5;28;01mtry\u001b[39;00m:\n\u001b[1;32m-> 3802\u001b[0m     \u001b[38;5;28;01mreturn\u001b[39;00m \u001b[38;5;28;43mself\u001b[39;49m\u001b[38;5;241;43m.\u001b[39;49m\u001b[43m_engine\u001b[49m\u001b[38;5;241;43m.\u001b[39;49m\u001b[43mget_loc\u001b[49m\u001b[43m(\u001b[49m\u001b[43mcasted_key\u001b[49m\u001b[43m)\u001b[49m\n\u001b[0;32m   3803\u001b[0m \u001b[38;5;28;01mexcept\u001b[39;00m \u001b[38;5;167;01mKeyError\u001b[39;00m \u001b[38;5;28;01mas\u001b[39;00m err:\n",
      "File \u001b[1;32m~\\anaconda3\\lib\\site-packages\\pandas\\_libs\\index.pyx:138\u001b[0m, in \u001b[0;36mpandas._libs.index.IndexEngine.get_loc\u001b[1;34m()\u001b[0m\n",
      "File \u001b[1;32m~\\anaconda3\\lib\\site-packages\\pandas\\_libs\\index.pyx:165\u001b[0m, in \u001b[0;36mpandas._libs.index.IndexEngine.get_loc\u001b[1;34m()\u001b[0m\n",
      "File \u001b[1;32mpandas\\_libs\\hashtable_class_helper.pxi:5745\u001b[0m, in \u001b[0;36mpandas._libs.hashtable.PyObjectHashTable.get_item\u001b[1;34m()\u001b[0m\n",
      "File \u001b[1;32mpandas\\_libs\\hashtable_class_helper.pxi:5753\u001b[0m, in \u001b[0;36mpandas._libs.hashtable.PyObjectHashTable.get_item\u001b[1;34m()\u001b[0m\n",
      "\u001b[1;31mKeyError\u001b[0m: 'num1'",
      "\nThe above exception was the direct cause of the following exception:\n",
      "\u001b[1;31mKeyError\u001b[0m                                  Traceback (most recent call last)",
      "Cell \u001b[1;32mIn[41], line 2\u001b[0m\n\u001b[0;32m      1\u001b[0m \u001b[38;5;66;03m# Trier les données\u001b[39;00m\n\u001b[1;32m----> 2\u001b[0m sorted_data \u001b[38;5;241m=\u001b[39m np\u001b[38;5;241m.\u001b[39msort(\u001b[43mdata\u001b[49m\u001b[43m[\u001b[49m\u001b[38;5;124;43m'\u001b[39;49m\u001b[38;5;124;43mnum1\u001b[39;49m\u001b[38;5;124;43m'\u001b[39;49m\u001b[43m]\u001b[49m)\n\u001b[0;32m      4\u001b[0m \u001b[38;5;66;03m# Calculer la fonction de répartition empirique\u001b[39;00m\n\u001b[0;32m      5\u001b[0m cumulative \u001b[38;5;241m=\u001b[39m np\u001b[38;5;241m.\u001b[39mcumsum(sorted_data) \u001b[38;5;241m/\u001b[39m np\u001b[38;5;241m.\u001b[39msum(sorted_data)\n",
      "File \u001b[1;32m~\\anaconda3\\lib\\site-packages\\pandas\\core\\frame.py:3807\u001b[0m, in \u001b[0;36mDataFrame.__getitem__\u001b[1;34m(self, key)\u001b[0m\n\u001b[0;32m   3805\u001b[0m \u001b[38;5;28;01mif\u001b[39;00m \u001b[38;5;28mself\u001b[39m\u001b[38;5;241m.\u001b[39mcolumns\u001b[38;5;241m.\u001b[39mnlevels \u001b[38;5;241m>\u001b[39m \u001b[38;5;241m1\u001b[39m:\n\u001b[0;32m   3806\u001b[0m     \u001b[38;5;28;01mreturn\u001b[39;00m \u001b[38;5;28mself\u001b[39m\u001b[38;5;241m.\u001b[39m_getitem_multilevel(key)\n\u001b[1;32m-> 3807\u001b[0m indexer \u001b[38;5;241m=\u001b[39m \u001b[38;5;28;43mself\u001b[39;49m\u001b[38;5;241;43m.\u001b[39;49m\u001b[43mcolumns\u001b[49m\u001b[38;5;241;43m.\u001b[39;49m\u001b[43mget_loc\u001b[49m\u001b[43m(\u001b[49m\u001b[43mkey\u001b[49m\u001b[43m)\u001b[49m\n\u001b[0;32m   3808\u001b[0m \u001b[38;5;28;01mif\u001b[39;00m is_integer(indexer):\n\u001b[0;32m   3809\u001b[0m     indexer \u001b[38;5;241m=\u001b[39m [indexer]\n",
      "File \u001b[1;32m~\\anaconda3\\lib\\site-packages\\pandas\\core\\indexes\\base.py:3804\u001b[0m, in \u001b[0;36mIndex.get_loc\u001b[1;34m(self, key, method, tolerance)\u001b[0m\n\u001b[0;32m   3802\u001b[0m     \u001b[38;5;28;01mreturn\u001b[39;00m \u001b[38;5;28mself\u001b[39m\u001b[38;5;241m.\u001b[39m_engine\u001b[38;5;241m.\u001b[39mget_loc(casted_key)\n\u001b[0;32m   3803\u001b[0m \u001b[38;5;28;01mexcept\u001b[39;00m \u001b[38;5;167;01mKeyError\u001b[39;00m \u001b[38;5;28;01mas\u001b[39;00m err:\n\u001b[1;32m-> 3804\u001b[0m     \u001b[38;5;28;01mraise\u001b[39;00m \u001b[38;5;167;01mKeyError\u001b[39;00m(key) \u001b[38;5;28;01mfrom\u001b[39;00m \u001b[38;5;21;01merr\u001b[39;00m\n\u001b[0;32m   3805\u001b[0m \u001b[38;5;28;01mexcept\u001b[39;00m \u001b[38;5;167;01mTypeError\u001b[39;00m:\n\u001b[0;32m   3806\u001b[0m     \u001b[38;5;66;03m# If we have a listlike key, _check_indexing_error will raise\u001b[39;00m\n\u001b[0;32m   3807\u001b[0m     \u001b[38;5;66;03m#  InvalidIndexError. Otherwise we fall through and re-raise\u001b[39;00m\n\u001b[0;32m   3808\u001b[0m     \u001b[38;5;66;03m#  the TypeError.\u001b[39;00m\n\u001b[0;32m   3809\u001b[0m     \u001b[38;5;28mself\u001b[39m\u001b[38;5;241m.\u001b[39m_check_indexing_error(key)\n",
      "\u001b[1;31mKeyError\u001b[0m: 'num1'"
     ]
    }
   ],
   "source": [
    "# Trier les données\n",
    "sorted_data = np.sort(data['num1'])\n",
    "\n",
    "# Calculer la fonction de répartition empirique\n",
    "cumulative = np.cumsum(sorted_data) / np.sum(sorted_data)\n",
    "\n",
    "# Tracer la courbe cumulative\n",
    "plt.plot(sorted_data, cumulative)\n",
    "plt.xlabel('Valeurs')\n",
    "plt.ylabel('fréquences')\n",
    "plt.title('Courbe cumulative des fréquences')\n",
    "plt.show()"
   ]
  },
  {
   "cell_type": "code",
   "execution_count": null,
   "id": "de760b0b",
   "metadata": {},
   "outputs": [],
   "source": []
  }
 ],
 "metadata": {
  "kernelspec": {
   "display_name": "Python 3 (ipykernel)",
   "language": "python",
   "name": "python3"
  },
  "language_info": {
   "codemirror_mode": {
    "name": "ipython",
    "version": 3
   },
   "file_extension": ".py",
   "mimetype": "text/x-python",
   "name": "python",
   "nbconvert_exporter": "python",
   "pygments_lexer": "ipython3",
   "version": "3.10.9"
  }
 },
 "nbformat": 4,
 "nbformat_minor": 5
}
