{
 "cells": [
  {
   "cell_type": "code",
   "execution_count": 5,
   "id": "dcac8d58",
   "metadata": {},
   "outputs": [],
   "source": [
    "# Importer les bibliothèques\n",
    "import pandas as pd\n",
    "import statistics as stat\n",
    "import numpy as np\n",
    "import matplotlib.pyplot as plt\n",
    "import seaborn as sns"
   ]
  },
  {
   "cell_type": "code",
   "execution_count": 6,
   "id": "e52454c9",
   "metadata": {},
   "outputs": [
    {
     "data": {
      "text/html": [
       "<div>\n",
       "<style scoped>\n",
       "    .dataframe tbody tr th:only-of-type {\n",
       "        vertical-align: middle;\n",
       "    }\n",
       "\n",
       "    .dataframe tbody tr th {\n",
       "        vertical-align: top;\n",
       "    }\n",
       "\n",
       "    .dataframe thead th {\n",
       "        text-align: right;\n",
       "    }\n",
       "</style>\n",
       "<table border=\"1\" class=\"dataframe\">\n",
       "  <thead>\n",
       "    <tr style=\"text-align: right;\">\n",
       "      <th></th>\n",
       "      <th>subidr</th>\n",
       "      <th>attnr</th>\n",
       "      <th>num1</th>\n",
       "      <th>num2</th>\n",
       "      <th>num3</th>\n",
       "    </tr>\n",
       "  </thead>\n",
       "  <tbody>\n",
       "    <tr>\n",
       "      <th>0</th>\n",
       "      <td>1</td>\n",
       "      <td>divided</td>\n",
       "      <td>2</td>\n",
       "      <td>4.0</td>\n",
       "      <td>7</td>\n",
       "    </tr>\n",
       "    <tr>\n",
       "      <th>1</th>\n",
       "      <td>2</td>\n",
       "      <td>divided</td>\n",
       "      <td>3</td>\n",
       "      <td>4.0</td>\n",
       "      <td>5</td>\n",
       "    </tr>\n",
       "    <tr>\n",
       "      <th>2</th>\n",
       "      <td>3</td>\n",
       "      <td>divided</td>\n",
       "      <td>3</td>\n",
       "      <td>5.0</td>\n",
       "      <td>6</td>\n",
       "    </tr>\n",
       "    <tr>\n",
       "      <th>3</th>\n",
       "      <td>4</td>\n",
       "      <td>divided</td>\n",
       "      <td>5</td>\n",
       "      <td>7.0</td>\n",
       "      <td>5</td>\n",
       "    </tr>\n",
       "    <tr>\n",
       "      <th>4</th>\n",
       "      <td>5</td>\n",
       "      <td>divided</td>\n",
       "      <td>4</td>\n",
       "      <td>5.0</td>\n",
       "      <td>8</td>\n",
       "    </tr>\n",
       "  </tbody>\n",
       "</table>\n",
       "</div>"
      ],
      "text/plain": [
       "   subidr    attnr  num1  num2  num3\n",
       "0       1  divided     2   4.0     7\n",
       "1       2  divided     3   4.0     5\n",
       "2       3  divided     3   5.0     6\n",
       "3       4  divided     5   7.0     5\n",
       "4       5  divided     4   5.0     8"
      ]
     },
     "execution_count": 6,
     "metadata": {},
     "output_type": "execute_result"
    }
   ],
   "source": [
    "# Créer un ensemble de données\n",
    "data = sns.load_dataset('anagrams')\n",
    "data.head()"
   ]
  },
  {
   "cell_type": "code",
   "execution_count": 7,
   "id": "07ed2a52",
   "metadata": {},
   "outputs": [
    {
     "name": "stdout",
     "output_type": "stream",
     "text": [
      "le mod est :  5\n"
     ]
    }
   ],
   "source": [
    "# Calcul le Mode\n",
    "mode = data['num1'].mode()\n",
    "print(\"le mod est : \",mode[0])"
   ]
  },
  {
   "cell_type": "code",
   "execution_count": 8,
   "id": "38557cf5",
   "metadata": {},
   "outputs": [
    {
     "name": "stdout",
     "output_type": "stream",
     "text": [
      "Le médiane est :  5.5\n"
     ]
    }
   ],
   "source": [
    "# Calcul la médiane\n",
    "median = data['num1'].median()\n",
    "print(\"Le médiane est : \", median)"
   ]
  },
  {
   "cell_type": "code",
   "execution_count": 9,
   "id": "58726229",
   "metadata": {},
   "outputs": [
    {
     "name": "stdout",
     "output_type": "stream",
     "text": [
      "Les quartiles est :  4.75 6.25\n"
     ]
    }
   ],
   "source": [
    "# Calculer les quartiles\n",
    "q1, q3 = np.quantile(data['num1'], [0.25, 0.75])\n",
    "print(\"Les quartiles est : \", q1, q3)"
   ]
  },
  {
   "cell_type": "code",
   "execution_count": 10,
   "id": "b4470a15",
   "metadata": {},
   "outputs": [
    {
     "name": "stdout",
     "output_type": "stream",
     "text": [
      "Le variance est :  3.2275\n"
     ]
    }
   ],
   "source": [
    "# Calcul la variance\n",
    "var = np.var(data['num1'])\n",
    "print(\"Le variance est : \", var)"
   ]
  },
  {
   "cell_type": "code",
   "execution_count": 11,
   "id": "dc1af5b4",
   "metadata": {},
   "outputs": [
    {
     "name": "stdout",
     "output_type": "stream",
     "text": [
      "L'écart-type est :  1.7965244223221681\n"
     ]
    }
   ],
   "source": [
    "# Calcul de L'écart-type\n",
    "sigma = np.std(data['num1'], ddof=0)\n",
    "print(\"L'écart-type est : \", sigma)"
   ]
  },
  {
   "cell_type": "code",
   "execution_count": 12,
   "id": "2081b3df",
   "metadata": {},
   "outputs": [
    {
     "name": "stdout",
     "output_type": "stream",
     "text": [
      "Le la moyenne arithmétique est :  5.35\n"
     ]
    }
   ],
   "source": [
    "# Calculer la moyenne arithmétique\n",
    "moyenne = data['num1'].mean()\n",
    "print(\"Le la moyenne arithmétique est : \", moyenne)"
   ]
  },
  {
   "cell_type": "code",
   "execution_count": 13,
   "id": "7c985de1",
   "metadata": {},
   "outputs": [
    {
     "name": "stdout",
     "output_type": "stream",
     "text": [
      "Le coefficient de corelation est :  0.33579895744339594\n"
     ]
    }
   ],
   "source": [
    "# Calculer le coefficient de corelation\n",
    "cv = sigma / moyenne\n",
    "print(\"Le coefficient de corelation est : \", cv)"
   ]
  },
  {
   "cell_type": "code",
   "execution_count": 14,
   "id": "fe09e747",
   "metadata": {},
   "outputs": [
    {
     "name": "stdout",
     "output_type": "stream",
     "text": [
      "   Modalite  Effectif\n",
      "0         5         5\n",
      "1         6         5\n",
      "2         8         3\n",
      "3         2         2\n",
      "4         3         2\n",
      "5         7         2\n",
      "6         4         1\n"
     ]
    }
   ],
   "source": [
    "# Tarcer le tableau statistique\n",
    "serie = pd.Series(data['num1'])\n",
    "table_effectifs = serie.value_counts().reset_index()\n",
    "table_effectifs.columns = ['Modalite', 'Effectif']\n",
    "print(table_effectifs)"
   ]
  },
  {
   "cell_type": "code",
   "execution_count": 15,
   "id": "95b3d8e2",
   "metadata": {},
   "outputs": [
    {
     "data": {
      "image/png": "[encoded data removed]",
      "text/plain": [
       "<Figure size 640x480 with 1 Axes>"
      ]
     },
     "metadata": {},
     "output_type": "display_data"
    }
   ],
   "source": [
    "# Tarcer diagramme en batôns\n",
    "plt.bar(table_effectifs['Modalite'],table_effectifs['Effectif'])\n",
    "plt.title('Diagramme en batôns')\n",
    "plt.xlabel('Modalités')\n",
    "plt.ylabel('Effectifs')\n",
    "plt.show()"
   ]
  },
  {
   "cell_type": "code",
   "execution_count": 16,
   "id": "e68fd8b5",
   "metadata": {},
   "outputs": [
    {
     "data": {
      "image/png": "[encoded data removed]",
      "text/plain": [
       "<Figure size 640x480 with 1 Axes>"
      ]
     },
     "metadata": {},
     "output_type": "display_data"
    }
   ],
   "source": [
    "# Tracer la boîte à moustaches\n",
    "plt.boxplot(data['num1'])\n",
    "\n",
    "# Afficher le graphique\n",
    "plt.show()"
   ]
  },
  {
   "cell_type": "code",
   "execution_count": null,
   "id": "1364605c",
   "metadata": {},
   "outputs": [],
   "source": []
  }
 ],
 "metadata": {
  "kernelspec": {
   "display_name": "Python 3 (ipykernel)",
   "language": "python",
   "name": "python3"
  },
  "language_info": {
   "codemirror_mode": {
    "name": "ipython",
    "version": 3
   },
   "file_extension": ".py",
   "mimetype": "text/x-python",
   "name": "python",
   "nbconvert_exporter": "python",
   "pygments_lexer": "ipython3",
   "version": "3.10.9"
  }
 },
 "nbformat": 4,
 "nbformat_minor": 5
}
